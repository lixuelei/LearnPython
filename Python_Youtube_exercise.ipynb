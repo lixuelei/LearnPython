{
 "cells": [
  {
   "cell_type": "code",
   "execution_count": 1,
   "metadata": {},
   "outputs": [
    {
     "name": "stdout",
     "output_type": "stream",
     "text": [
      "1\n",
      "2\n",
      "3\n",
      "4\n",
      "5\n",
      "6\n",
      "7\n",
      "8\n",
      "9\n"
     ]
    }
   ],
   "source": [
    "condition = 1\n",
    "while condition < 10:\n",
    "    print(condition)\n",
    "    condition += 1"
   ]
  },
  {
   "cell_type": "markdown",
   "metadata": {},
   "source": [
    "while True Loop: infinent"
   ]
  },
  {
   "cell_type": "code",
   "execution_count": null,
   "metadata": {
    "collapsed": true
   },
   "outputs": [],
   "source": [
    "while True:\n",
    "    print('doing stuff')"
   ]
  },
  {
   "cell_type": "code",
   "execution_count": 69,
   "metadata": {
    "collapsed": true
   },
   "outputs": [],
   "source": [
    "import numpy as np\n",
    "rarray = np.random.random(size=10)\n",
    "rlist = list(rarray)"
   ]
  },
  {
   "cell_type": "code",
   "execution_count": 71,
   "metadata": {},
   "outputs": [
    {
     "name": "stdout",
     "output_type": "stream",
     "text": [
      "0.971186438091\n",
      "continue program\n",
      "0.974684580844\n",
      "continue program\n"
     ]
    }
   ],
   "source": [
    "L = list(np.random.random(2))\n",
    "for x in L:\n",
    "    print(x)\n",
    "    print('continue program')"
   ]
  },
  {
   "cell_type": "code",
   "execution_count": 73,
   "metadata": {},
   "outputs": [
    {
     "name": "stdout",
     "output_type": "stream",
     "text": [
      "1\n",
      "2\n",
      "3\n",
      "4\n"
     ]
    }
   ],
   "source": [
    "for x in range(1,5):\n",
    "    print(x)"
   ]
  },
  {
   "cell_type": "code",
   "execution_count": 31,
   "metadata": {},
   "outputs": [
    {
     "name": "stdout",
     "output_type": "stream",
     "text": [
      "false!\n"
     ]
    }
   ],
   "source": [
    "x,y,z=(5,8,5)\n",
    "if x<y<z: \n",
    "    print('y is greater than x and z')\n",
    "else:\n",
    "        print('false!')"
   ]
  },
  {
   "cell_type": "code",
   "execution_count": 9,
   "metadata": {},
   "outputs": [
    {
     "name": "stdout",
     "output_type": "stream",
     "text": [
      "3 5\n"
     ]
    }
   ],
   "source": [
    "def simple(num1, num2=5):\n",
    "    print(num1,num2)\n",
    "simple(3)"
   ]
  },
  {
   "cell_type": "code",
   "execution_count": 7,
   "metadata": {},
   "outputs": [
    {
     "name": "stdout",
     "output_type": "stream",
     "text": [
      "0\n"
     ]
    }
   ],
   "source": [
    "class calculator:\n",
    "\n",
    "\tdef addition(x,y):\n",
    "\t\tadd = x + y\n",
    "\t\tprint(add)\n",
    "\n",
    "\tdef subtraction(x,y):\n",
    "\t\tsub = x - y\n",
    "\t\tprint(sub)\n",
    "\n",
    "\tdef multiplication(x,y):\n",
    "\t\tmult = x * y\n",
    "\t\tprint(mult)\n",
    "\n",
    "\tdef division(x,y):\n",
    "\t\tdiv = x / y\n",
    "\t\tprint(div)\n",
    "\n",
    "\n",
    "calculator.multiplication(0,6)"
   ]
  },
  {
   "cell_type": "code",
   "execution_count": 42,
   "metadata": {},
   "outputs": [
    {
     "name": "stdout",
     "output_type": "stream",
     "text": [
      "[14, 13, 7, 15, 13, 6, 0, 4, 5, 8]\n",
      "25\n",
      "25\n",
      "25\n",
      "8\n"
     ]
    }
   ],
   "source": [
    "##  Module Import Syntax \n",
    "import statistics, random, numpy\n",
    "example_list = list(numpy.random.randint(0,20,10))\n",
    "x = statistics.variance(example_list)\n",
    "print(example_list)\n",
    "print(x)\n",
    "\n",
    "# you can only type variance without s.\n",
    "from statistics import variance \n",
    "y = variance(example_list)\n",
    "print(y)\n",
    "\n",
    "# you can only type v instead of variance\n",
    "from statistics import variance as v\n",
    "z = v(example_list)\n",
    "print(z)\n",
    "\n",
    "# from module import everything by using *\n",
    "from statistics import *\n",
    "a = mean(example_list)\n",
    "print(a)"
   ]
  },
  {
   "cell_type": "code",
   "execution_count": 49,
   "metadata": {},
   "outputs": [
    {
     "name": "stdout",
     "output_type": "stream",
     "text": [
      "(2, 3, 4)\n",
      "2\n",
      "(3, 4, 5)\n",
      "3\n"
     ]
    }
   ],
   "source": [
    "# Tuple\n",
    "x = 2,3,4\n",
    "print(x)\n",
    "print(x[0])\n",
    "\n",
    "y = (3,4,5)\n",
    "print(y)\n",
    "print(y[0])\n",
    "\n",
    "def exampleFunc():\n",
    "    return 7,8\n",
    "a,b = exampleFunc()\n",
    "\n"
   ]
  },
  {
   "cell_type": "code",
   "execution_count": 66,
   "metadata": {},
   "outputs": [
    {
     "name": "stdout",
     "output_type": "stream",
     "text": [
      "[3, 99, 6, 2, 7, 9, 3, 6, 8, 9]\n",
      "3\n",
      "[99, 6, 2]\n",
      "9\n",
      "1\n",
      "[2, 3, 3, 6, 6, 7, 8, 9, 9, 99]\n"
     ]
    }
   ],
   "source": [
    "#List\n",
    "x = [1,3,6,2,7,9,3,6,8]\n",
    "x.append(9)\n",
    "x.insert(2,99) \n",
    "# insert(n:insert value k after the n-th value, k: inserted value)\n",
    "x.remove(1)\n",
    "print(x)\n",
    "print(x[0])\n",
    "print(x[1:4])\n",
    "print(x[-1])\n",
    "print(x.index(99)) # 查询数字在第几位\n",
    "x.sort() # 排序\n",
    "print(x)"
   ]
  },
  {
   "cell_type": "code",
   "execution_count": 84,
   "metadata": {},
   "outputs": [
    {
     "name": "stdout",
     "output_type": "stream",
     "text": [
      "[[[1, 2], [3, 4]], [5, 7]]\n",
      "[[1, 2], [3, 4]]\n",
      "3\n"
     ]
    }
   ],
   "source": [
    "# Multi-dimentional-List\n",
    "x = [\n",
    "    [[1,2],[3,4]],\n",
    "    [5,7]\n",
    "]\n",
    "print(x)\n",
    "print(x[0])\n",
    "print(x[0][1][0])"
   ]
  },
  {
   "cell_type": "code",
   "execution_count": 100,
   "metadata": {},
   "outputs": [
    {
     "name": "stdout",
     "output_type": "stream",
     "text": [
      "['1/2/2014', '5', '8', 'red']\n",
      "1/2/2014\n",
      "red\n",
      "['1/3/2014', '5', '2', 'green']\n",
      "1/3/2014\n",
      "green\n",
      "['1/4/2014', '9', '1', 'blue']\n",
      "1/4/2014\n",
      "blue\n"
     ]
    }
   ],
   "source": [
    "# Reading from a CSV File\n",
    "import csv\n",
    "with open('/home/lxl/Desktop/example.csv') as csvfile:\n",
    "    readCSV = csv.reader(csvfile, delimiter = ',')\n",
    "    \n",
    "    for row in readCSV:\n",
    "        print(row)\n",
    "        print(row[0])\n",
    "        print(row[3])"
   ]
  },
  {
   "cell_type": "code",
   "execution_count": 103,
   "metadata": {},
   "outputs": [
    {
     "name": "stdout",
     "output_type": "stream",
     "text": [
      "['1/2/2014', '1/3/2014', '1/4/2014']\n",
      "['red', 'green', 'blue']\n"
     ]
    }
   ],
   "source": [
    "import csv\n",
    "with open('/home/lxl/Desktop/example.csv') as csvfile:\n",
    "    readCSV = csv.reader(csvfile, delimiter = ',')\n",
    "    \n",
    "    dates = []\n",
    "    colors = []\n",
    "    \n",
    "    \n",
    "    for row in readCSV:\n",
    "        color = row[3]\n",
    "        date = row[0]\n",
    "        \n",
    "        \n",
    "        dates.append(date)\n",
    "        colors.append(color)\n",
    "        \n",
    "    print(dates)\n",
    "    print(colors)"
   ]
  },
  {
   "cell_type": "code",
   "execution_count": 133,
   "metadata": {
    "collapsed": true
   },
   "outputs": [],
   "source": [
    "import csv  #append with 'a'\n",
    "with open('/home/lxl/Desktop/example.csv', 'a') as csvfile:\n",
    "    csv_app = csv.writer(csvfile)\n",
    "    csv_app.writerow(['1/2/2014', '5', '8', 'red'])"
   ]
  },
  {
   "cell_type": "code",
   "execution_count": 135,
   "metadata": {},
   "outputs": [
    {
     "name": "stdout",
     "output_type": "stream",
     "text": [
      "\n",
      "this is a simple\n",
      "multi-line\n",
      "print.\n",
      "======\n",
      "|    |\n",
      "| Box|\n",
      "|    |\n",
      "======\n",
      "\n"
     ]
    }
   ],
   "source": [
    "print('''\n",
    "this is a simple\n",
    "multi-line\n",
    "print.\n",
    "======\n",
    "|    |\n",
    "| Box|\n",
    "|    |\n",
    "======\n",
    "''')"
   ]
  },
  {
   "cell_type": "code",
   "execution_count": 155,
   "metadata": {},
   "outputs": [
    {
     "name": "stdout",
     "output_type": "stream",
     "text": [
      "5\n",
      "they are the same\n",
      "9\n",
      "1\n",
      "6\n",
      "5\n",
      "6\n"
     ]
    }
   ],
   "source": [
    "#build-in Functions\n",
    "print(abs(-5))\n",
    "if abs(-5) == 5:\n",
    "    print('they are the same')\n",
    "#import xes\n",
    "#help(xes)\n",
    "exlist = [1,3,6,9,5,2]\n",
    "print(max(exlist))\n",
    "print(min(exlist))\n",
    "x = 5.622\n",
    "print(round(x))\n",
    "import math\n",
    "print(math.floor(x))\n",
    "print(math.ceil(x))"
   ]
  },
  {
   "cell_type": "code",
   "execution_count": 172,
   "metadata": {},
   "outputs": [
    {
     "name": "stdout",
     "output_type": "stream",
     "text": [
      "/home/lxl\n"
     ]
    }
   ],
   "source": [
    "import os, time\n",
    "curDir = os.getcwd()\n",
    "print(curDir)\n",
    "#os.mkdir('newDir')\n",
    "time.sleep(2)\n",
    "#os.rename('newDir','newDir2')\n",
    "time.sleep(2)\n",
    "os.rmdir('newDir2')"
   ]
  },
  {
   "cell_type": "code",
   "execution_count": null,
   "metadata": {},
   "outputs": [],
   "source": []
  },
  {
   "cell_type": "code",
   "execution_count": null,
   "metadata": {},
   "outputs": [],
   "source": []
  },
  {
   "cell_type": "code",
   "execution_count": null,
   "metadata": {
    "collapsed": true
   },
   "outputs": [],
   "source": []
  },
  {
   "cell_type": "code",
   "execution_count": null,
   "metadata": {
    "collapsed": true
   },
   "outputs": [],
   "source": []
  },
  {
   "cell_type": "code",
   "execution_count": null,
   "metadata": {
    "collapsed": true
   },
   "outputs": [],
   "source": []
  },
  {
   "cell_type": "code",
   "execution_count": null,
   "metadata": {
    "collapsed": true
   },
   "outputs": [],
   "source": []
  },
  {
   "cell_type": "code",
   "execution_count": null,
   "metadata": {
    "collapsed": true
   },
   "outputs": [],
   "source": []
  },
  {
   "cell_type": "code",
   "execution_count": null,
   "metadata": {
    "collapsed": true
   },
   "outputs": [],
   "source": []
  },
  {
   "cell_type": "code",
   "execution_count": null,
   "metadata": {
    "collapsed": true
   },
   "outputs": [],
   "source": []
  },
  {
   "cell_type": "code",
   "execution_count": null,
   "metadata": {
    "collapsed": true
   },
   "outputs": [],
   "source": []
  },
  {
   "cell_type": "code",
   "execution_count": null,
   "metadata": {
    "collapsed": true
   },
   "outputs": [],
   "source": []
  },
  {
   "cell_type": "code",
   "execution_count": null,
   "metadata": {
    "collapsed": true
   },
   "outputs": [],
   "source": []
  },
  {
   "cell_type": "code",
   "execution_count": null,
   "metadata": {
    "collapsed": true
   },
   "outputs": [],
   "source": []
  }
 ],
 "metadata": {
  "kernelspec": {
   "display_name": "Python 3",
   "language": "python",
   "name": "python3"
  },
  "language_info": {
   "codemirror_mode": {
    "name": "ipython",
    "version": 3
   },
   "file_extension": ".py",
   "mimetype": "text/x-python",
   "name": "python",
   "nbconvert_exporter": "python",
   "pygments_lexer": "ipython3",
   "version": "3.5.3"
  }
 },
 "nbformat": 4,
 "nbformat_minor": 2
}
