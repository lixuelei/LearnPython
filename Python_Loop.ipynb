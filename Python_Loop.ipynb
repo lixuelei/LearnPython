{
 "cells": [
  {
   "cell_type": "markdown",
   "metadata": {},
   "source": [
    "# While"
   ]
  },
  {
   "cell_type": "markdown",
   "metadata": {},
   "source": [
    "判断条件可以是任何表达式，任何非零、或非空（null）的值均为true。\n",
    "当判断条件假false时，循环结束。"
   ]
  },
  {
   "cell_type": "code",
   "execution_count": 2,
   "metadata": {},
   "outputs": [
    {
     "name": "stdout",
     "output_type": "stream",
     "text": [
      "[37, 47, 51]\n",
      "[12, 86]\n"
     ]
    }
   ],
   "source": [
    "numbers = [12,37,47,51,86]\n",
    "even = []\n",
    "odd = []\n",
    "for element in numbers:\n",
    "    if element % 2 == 0:\n",
    "        even.append(element)\n",
    "    else:\n",
    "        odd.append(element)\n",
    "print(odd)\n",
    "print(even)"
   ]
  },
  {
   "cell_type": "code",
   "execution_count": 3,
   "metadata": {},
   "outputs": [
    {
     "name": "stdout",
     "output_type": "stream",
     "text": [
      "The count is 0\n",
      "The count is 1\n",
      "The count is 2\n",
      "The count is 3\n",
      "The count is 4\n",
      "The count is 5\n",
      "The count is 6\n",
      "The count is 7\n",
      "The count is 8\n"
     ]
    }
   ],
   "source": [
    "count = 0\n",
    "while count < 9:\n",
    "    print('The count is ' + str(count))\n",
    "    count = count + 1"
   ]
  },
  {
   "cell_type": "markdown",
   "metadata": {},
   "source": [
    "while 语句时还有另外两个重要的命令 continue，break 来跳过循环，continue 用于跳过该次循环，break 则是用于退出循环，此外\"判断条件\"还可以是个常值，表示循环必定成立，具体用法如下：\n"
   ]
  },
  {
   "cell_type": "code",
   "execution_count": 7,
   "metadata": {},
   "outputs": [
    {
     "name": "stdout",
     "output_type": "stream",
     "text": [
      "2\n",
      "4\n",
      "6\n",
      "8\n",
      "10\n"
     ]
    }
   ],
   "source": [
    "i = 1\n",
    "while i < 10:\n",
    "    i += 1\n",
    "    if i % 2 > 0:\n",
    "        continue # continue用于跳过该循环，即排除单数。\n",
    "    print(i)"
   ]
  },
  {
   "cell_type": "code",
   "execution_count": 9,
   "metadata": {},
   "outputs": [
    {
     "name": "stdout",
     "output_type": "stream",
     "text": [
      "1\n",
      "2\n",
      "3\n",
      "4\n",
      "5\n"
     ]
    }
   ],
   "source": [
    "i = 1\n",
    "while 1: # \"判断条件\"还可以是个常值，表示循环必定成立\n",
    "    print(i)\n",
    "    i += 1\n",
    "    if i > 5:\n",
    "        break # break用于结束循环"
   ]
  },
  {
   "cell_type": "markdown",
   "metadata": {},
   "source": [
    "如果条件判断语句永远为 true，循环将会无限的执行下去。\n",
    "无限循环你可以使用 CTRL+C 来中断循环。"
   ]
  },
  {
   "cell_type": "code",
   "execution_count": null,
   "metadata": {},
   "outputs": [
    {
     "name": "stdout",
     "output_type": "stream",
     "text": [
      "give me a number: 1\n",
      "you entered:  1\n",
      "give me a number: 2\n",
      "you entered:  2\n",
      "give me a number: 3\n",
      "you entered:  3\n"
     ]
    }
   ],
   "source": [
    "var = 1\n",
    "while var == 1:\n",
    "    num = input('give me a number: ')\n",
    "    print('you entered: ', num)\n",
    "print('Googbye')"
   ]
  },
  {
   "cell_type": "markdown",
   "metadata": {},
   "source": [
    "在 python 中，while … else 在循环条件为 false 时执行 else 语句块："
   ]
  },
  {
   "cell_type": "code",
   "execution_count": 1,
   "metadata": {},
   "outputs": [
    {
     "name": "stdout",
     "output_type": "stream",
     "text": [
      "0  is less than 5\n",
      "1  is less than 5\n",
      "2  is less than 5\n",
      "3  is less than 5\n",
      "4  is less than 5\n",
      "5  is not less than 5\n"
     ]
    }
   ],
   "source": [
    "count = 0\n",
    "while count < 5:\n",
    "    print(count, ' is less than 5')\n",
    "    count += 1\n",
    "else:\n",
    "    print(count, ' is not less than 5')"
   ]
  },
  {
   "cell_type": "code",
   "execution_count": 2,
   "metadata": {},
   "outputs": [
    {
     "name": "stdout",
     "output_type": "stream",
     "text": [
      "输入整数:1\n",
      "小了\n",
      "输入整数:2\n",
      "小了\n",
      "输入整数:3\n",
      "小了\n",
      "输入整数:4\n",
      "小了\n",
      "输入整数:5\n",
      "小了\n",
      "输入整数:6\n",
      "小了\n",
      "输入整数:7\n",
      "小了\n",
      "输入整数:8\n",
      "OK\n"
     ]
    }
   ],
   "source": [
    "# 猜大小\n",
    "import random\n",
    "s = int(random.uniform(1,10))\n",
    "#print(s)\n",
    "m = int(input('输入整数:'))\n",
    "while m != s:\n",
    "\tif m > s:\n",
    "\t\tprint('大了')\n",
    "\t\tm = int(input('输入整数:'))\n",
    "\tif m < s:\n",
    "\t\tprint('小了')\n",
    "\t\tm = int(input('输入整数:'))\n",
    "\tif m == s:\n",
    "\t\tprint('OK')\n",
    "\t\tbreak;"
   ]
  },
  {
   "cell_type": "code",
   "execution_count": null,
   "metadata": {},
   "outputs": [
    {
     "name": "stdout",
     "output_type": "stream",
     "text": [
      "输入 石头、剪子、布,输入\"end\"结束游戏:石头\n",
      "电脑出了： 剪子，你赢了！\n"
     ]
    }
   ],
   "source": [
    "# 猜拳\n",
    "import random\n",
    "while 1:\n",
    "    s = int(random.uniform(1, 3))\n",
    "    if s == 1:\n",
    "        ind = \"石头\"\n",
    "    elif s == 2:\n",
    "        ind = \"剪子\"\n",
    "    elif s == 3:\n",
    "        ind = \"布\"\n",
    "    m = input('输入 石头、剪子、布,输入\"end\"结束游戏:')\n",
    "    blist = ['石头', \"剪子\", \"布\"]\n",
    "    if (m not in blist) and (m != 'end'):\n",
    "        print(\"输入错误，请重新输入！\")\n",
    "    elif (m not in blist) and (m == 'end'):\n",
    "        print (\"\\n游戏退出中...\")\n",
    "        break\n",
    "    elif m == ind :\n",
    "        print (\"电脑出了： \" + ind + \"，平局！\")\n",
    "    elif (m == '石头' and ind =='剪子') or (m == '剪子' and ind =='布') or (m == '布' and ind =='石头'):\n",
    "        print (\"电脑出了： \" + ind +\"，你赢了！\")\n",
    "    elif (m == '石头' and ind =='布') or (m == '剪子' and ind =='石头') or (m == '布' and ind =='剪子'):\n",
    "        print(\"电脑出了： \" + ind +\"，你输了！\")"
   ]
  },
  {
   "cell_type": "code",
   "execution_count": null,
   "metadata": {
    "collapsed": true
   },
   "outputs": [],
   "source": []
  }
 ],
 "metadata": {
  "kernelspec": {
   "display_name": "Python 3",
   "language": "python",
   "name": "python3"
  },
  "language_info": {
   "codemirror_mode": {
    "name": "ipython",
    "version": 3
   },
   "file_extension": ".py",
   "mimetype": "text/x-python",
   "name": "python",
   "nbconvert_exporter": "python",
   "pygments_lexer": "ipython3",
   "version": "3.5.3"
  }
 },
 "nbformat": 4,
 "nbformat_minor": 2
}
