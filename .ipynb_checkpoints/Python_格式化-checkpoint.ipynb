{
 "cells": [
  {
   "cell_type": "code",
   "execution_count": 2,
   "metadata": {},
   "outputs": [
    {
     "data": {
      "text/plain": [
       "'the length of (Hello World!) is 12'"
      ]
     },
     "execution_count": 2,
     "metadata": {},
     "output_type": "execute_result"
    }
   ],
   "source": [
    "#输出字符串\n",
    "str = 'Hello World!'\n",
    "str1 = 'the length of (%s) is %d' % (str, len(str))\n",
    "str1"
   ]
  },
  {
   "cell_type": "code",
   "execution_count": 8,
   "metadata": {},
   "outputs": [
    {
     "name": "stdout",
     "output_type": "stream",
     "text": [
      "hex_n = ff, dex_n = 255, oct_n = 377\n"
     ]
    }
   ],
   "source": [
    "#格式化输出16/10/8进制\n",
    "#%x --- hex 十六进制\n",
    "#%d --- dec 十进制\n",
    "#%o --- oct 八进制\n",
    "hex_n = 0xFF\n",
    "print('hex_n = %x, dex_n = %d, oct_n = %o' % (hex_n, hex_n, hex_n))"
   ]
  },
  {
   "cell_type": "code",
   "execution_count": null,
   "metadata": {
    "collapsed": true
   },
   "outputs": [],
   "source": []
  }
 ],
 "metadata": {
  "kernelspec": {
   "display_name": "Python 3",
   "language": "python",
   "name": "python3"
  },
  "language_info": {
   "codemirror_mode": {
    "name": "ipython",
    "version": 3
   },
   "file_extension": ".py",
   "mimetype": "text/x-python",
   "name": "python",
   "nbconvert_exporter": "python",
   "pygments_lexer": "ipython3",
   "version": "3.5.3"
  }
 },
 "nbformat": 4,
 "nbformat_minor": 2
}
