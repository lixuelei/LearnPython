{
 "cells": [
  {
   "cell_type": "code",
   "execution_count": 43,
   "metadata": {},
   "outputs": [],
   "source": [
    "# import data by reading from a file:\n",
    "import xml.etree.ElementTree as ET\n",
    "tree = ET.parse('running-example.xml')\n",
    "# tree = ET.ElementTree(file = 'running-example.xes')\n",
    "root = tree.getroot()"
   ]
  },
  {
   "cell_type": "code",
   "execution_count": 75,
   "metadata": {},
   "outputs": [
    {
     "name": "stdout",
     "output_type": "stream",
     "text": [
      "{http://code.deckfour.org/xes}log\n",
      "{'xes.creator': 'Fluxicon Nitro', 'xes.version': '1.0'}\n"
     ]
    }
   ],
   "source": [
    "# As an Element, root has a tag and a dictionary of attributes:\n",
    "print(root.tag)\n",
    "print(root.attrib)"
   ]
  },
  {
   "cell_type": "code",
   "execution_count": 76,
   "metadata": {},
   "outputs": [
    {
     "name": "stdout",
     "output_type": "stream",
     "text": [
      "{http://code.deckfour.org/xes}extension\n",
      "{http://code.deckfour.org/xes}extension\n",
      "{http://code.deckfour.org/xes}extension\n",
      "{http://code.deckfour.org/xes}global\n",
      "{http://code.deckfour.org/xes}global\n",
      "{http://code.deckfour.org/xes}classifier\n",
      "{http://code.deckfour.org/xes}classifier\n",
      "{http://code.deckfour.org/xes}string\n",
      "{http://code.deckfour.org/xes}trace\n",
      "{http://code.deckfour.org/xes}trace\n",
      "{http://code.deckfour.org/xes}trace\n",
      "{http://code.deckfour.org/xes}trace\n",
      "{http://code.deckfour.org/xes}trace\n",
      "{http://code.deckfour.org/xes}trace\n"
     ]
    }
   ],
   "source": [
    "# It also has children nodes over which we can iterate:\n",
    "for child in root:\n",
    "    print(child.tag)"
   ]
  },
  {
   "cell_type": "code",
   "execution_count": 77,
   "metadata": {},
   "outputs": [
    {
     "name": "stdout",
     "output_type": "stream",
     "text": [
      "{'prefix': 'concept', 'name': 'Concept', 'uri': 'http://code.deckfour.org/xes/concept.xesext'}\n",
      "{'prefix': 'time', 'name': 'Time', 'uri': 'http://code.deckfour.org/xes/time.xesext'}\n",
      "{'prefix': 'org', 'name': 'Organizational', 'uri': 'http://code.deckfour.org/xes/org.xesext'}\n",
      "{'scope': 'trace'}\n",
      "{'scope': 'event'}\n",
      "{'name': 'Activity', 'keys': 'Activity'}\n",
      "{'name': 'activity classifier', 'keys': 'Activity'}\n",
      "{'value': 'Fluxicon Nitro', 'key': 'creator'}\n",
      "{}\n",
      "{}\n",
      "{}\n",
      "{}\n",
      "{}\n",
      "{}\n"
     ]
    }
   ],
   "source": [
    "for child in root:\n",
    "    print(child.attrib)"
   ]
  },
  {
   "cell_type": "code",
   "execution_count": 86,
   "metadata": {},
   "outputs": [],
   "source": [
    "# access specific child nodes by index:\n",
    "root[8][0].text # <...>text<...> 此文件没有"
   ]
  },
  {
   "cell_type": "code",
   "execution_count": 28,
   "metadata": {},
   "outputs": [
    {
     "data": {
      "text/plain": [
       "'{http://code.deckfour.org/xes}extension'"
      ]
     },
     "execution_count": 28,
     "metadata": {},
     "output_type": "execute_result"
    }
   ],
   "source": [
    "root[0].tag"
   ]
  },
  {
   "cell_type": "code",
   "execution_count": 10,
   "metadata": {},
   "outputs": [
    {
     "data": {
      "text/plain": [
       "<Element '{http://code.deckfour.org/xes}string' at 0x7f9e783a96d8>"
      ]
     },
     "execution_count": 10,
     "metadata": {},
     "output_type": "execute_result"
    }
   ],
   "source": [
    "root[8][1]"
   ]
  },
  {
   "cell_type": "code",
   "execution_count": 12,
   "metadata": {},
   "outputs": [
    {
     "data": {
      "text/plain": [
       "<Element '{http://code.deckfour.org/xes}date' at 0x7f9e783a9868>"
      ]
     },
     "execution_count": 12,
     "metadata": {},
     "output_type": "execute_result"
    }
   ],
   "source": [
    "root[8][2][2]"
   ]
  },
  {
   "cell_type": "code",
   "execution_count": 48,
   "metadata": {},
   "outputs": [],
   "source": [
    "# finding interesting elements:###############\n",
    "for elem in root.iter('date'):\n",
    "    print(elem.tag, elem.attrib)"
   ]
  },
  {
   "cell_type": "code",
   "execution_count": 45,
   "metadata": {},
   "outputs": [],
   "source": [
    "# 在 log 下面找到所有标签为 trace 的元素:################\n",
    "for elem in tree.iterfind('log/trace'):\n",
    "    print(elem.tag, elem.attrib)"
   ]
  },
  {
   "cell_type": "code",
   "execution_count": 46,
   "metadata": {},
   "outputs": [
    {
     "name": "stdout",
     "output_type": "stream",
     "text": [
      "{http://code.deckfour.org/xes}string {'key': 'concept:name', 'value': 'register request'}\n",
      "{http://code.deckfour.org/xes}string {'key': 'org:resource', 'value': 'Pete'}\n",
      "{http://code.deckfour.org/xes}date {'key': 'time:timestamp', 'value': '2010-12-30T14:32:00.000+01:00'}\n",
      "{http://code.deckfour.org/xes}string {'key': 'Activity', 'value': 'register request'}\n",
      "{http://code.deckfour.org/xes}string {'key': 'Resource', 'value': 'Pete'}\n",
      "{http://code.deckfour.org/xes}string {'key': 'Costs', 'value': '50'}\n"
     ]
    }
   ],
   "source": [
    "# 就像任何 Element 一样，根节点可以找到自己的子结点：\n",
    "for children in root[8][2]:\n",
    "    print(children.tag, children.attrib)"
   ]
  },
  {
   "cell_type": "code",
   "execution_count": 47,
   "metadata": {},
   "outputs": [
    {
     "name": "stdout",
     "output_type": "stream",
     "text": [
      "{http://code.deckfour.org/xes}log {'xes.version': '1.0', 'xes.creator': 'Fluxicon Nitro'}\n",
      "{http://code.deckfour.org/xes}extension {'uri': 'http://code.deckfour.org/xes/concept.xesext', 'prefix': 'concept', 'name': 'Concept'}\n",
      "{http://code.deckfour.org/xes}extension {'uri': 'http://code.deckfour.org/xes/time.xesext', 'prefix': 'time', 'name': 'Time'}\n",
      "{http://code.deckfour.org/xes}extension {'uri': 'http://code.deckfour.org/xes/org.xesext', 'prefix': 'org', 'name': 'Organizational'}\n",
      "{http://code.deckfour.org/xes}global {'scope': 'trace'}\n",
      "{http://code.deckfour.org/xes}string {'key': 'concept:name', 'value': 'name'}\n",
      "{http://code.deckfour.org/xes}global {'scope': 'event'}\n",
      "{http://code.deckfour.org/xes}string {'key': 'concept:name', 'value': 'name'}\n",
      "{http://code.deckfour.org/xes}string {'key': 'org:resource', 'value': 'resource'}\n",
      "{http://code.deckfour.org/xes}date {'key': 'time:timestamp', 'value': '2011-04-13T14:02:31.199+02:00'}\n",
      "{http://code.deckfour.org/xes}string {'key': 'Activity', 'value': 'string'}\n",
      "{http://code.deckfour.org/xes}string {'key': 'Resource', 'value': 'string'}\n",
      "{http://code.deckfour.org/xes}string {'key': 'Costs', 'value': 'string'}\n",
      "{http://code.deckfour.org/xes}classifier {'keys': 'Activity', 'name': 'Activity'}\n",
      "{http://code.deckfour.org/xes}classifier {'keys': 'Activity', 'name': 'activity classifier'}\n",
      "{http://code.deckfour.org/xes}string {'key': 'creator', 'value': 'Fluxicon Nitro'}\n",
      "{http://code.deckfour.org/xes}trace {}\n",
      "{http://code.deckfour.org/xes}string {'key': 'concept:name', 'value': '3'}\n",
      "{http://code.deckfour.org/xes}string {'key': 'creator', 'value': 'Fluxicon Nitro'}\n",
      "{http://code.deckfour.org/xes}event {}\n",
      "{http://code.deckfour.org/xes}string {'key': 'concept:name', 'value': 'register request'}\n",
      "{http://code.deckfour.org/xes}string {'key': 'org:resource', 'value': 'Pete'}\n",
      "{http://code.deckfour.org/xes}date {'key': 'time:timestamp', 'value': '2010-12-30T14:32:00.000+01:00'}\n",
      "{http://code.deckfour.org/xes}string {'key': 'Activity', 'value': 'register request'}\n",
      "{http://code.deckfour.org/xes}string {'key': 'Resource', 'value': 'Pete'}\n",
      "{http://code.deckfour.org/xes}string {'key': 'Costs', 'value': '50'}\n",
      "{http://code.deckfour.org/xes}event {}\n",
      "{http://code.deckfour.org/xes}string {'key': 'concept:name', 'value': 'examine casually'}\n",
      "{http://code.deckfour.org/xes}string {'key': 'org:resource', 'value': 'Mike'}\n",
      "{http://code.deckfour.org/xes}date {'key': 'time:timestamp', 'value': '2010-12-30T15:06:00.000+01:00'}\n",
      "{http://code.deckfour.org/xes}string {'key': 'Activity', 'value': 'examine casually'}\n",
      "{http://code.deckfour.org/xes}string {'key': 'Resource', 'value': 'Mike'}\n",
      "{http://code.deckfour.org/xes}string {'key': 'Costs', 'value': '400'}\n",
      "{http://code.deckfour.org/xes}event {}\n",
      "{http://code.deckfour.org/xes}string {'key': 'concept:name', 'value': 'check ticket'}\n",
      "{http://code.deckfour.org/xes}string {'key': 'org:resource', 'value': 'Ellen'}\n",
      "{http://code.deckfour.org/xes}date {'key': 'time:timestamp', 'value': '2010-12-30T16:34:00.000+01:00'}\n",
      "{http://code.deckfour.org/xes}string {'key': 'Activity', 'value': 'check ticket'}\n",
      "{http://code.deckfour.org/xes}string {'key': 'Resource', 'value': 'Ellen'}\n",
      "{http://code.deckfour.org/xes}string {'key': 'Costs', 'value': '100'}\n",
      "{http://code.deckfour.org/xes}event {}\n",
      "{http://code.deckfour.org/xes}string {'key': 'concept:name', 'value': 'decide'}\n",
      "{http://code.deckfour.org/xes}string {'key': 'org:resource', 'value': 'Sara'}\n",
      "{http://code.deckfour.org/xes}date {'key': 'time:timestamp', 'value': '2011-01-06T09:18:00.000+01:00'}\n",
      "{http://code.deckfour.org/xes}string {'key': 'Activity', 'value': 'decide'}\n",
      "{http://code.deckfour.org/xes}string {'key': 'Resource', 'value': 'Sara'}\n",
      "{http://code.deckfour.org/xes}string {'key': 'Costs', 'value': '200'}\n",
      "{http://code.deckfour.org/xes}event {}\n",
      "{http://code.deckfour.org/xes}string {'key': 'concept:name', 'value': 'reinitiate request'}\n",
      "{http://code.deckfour.org/xes}string {'key': 'org:resource', 'value': 'Sara'}\n",
      "{http://code.deckfour.org/xes}date {'key': 'time:timestamp', 'value': '2011-01-06T12:18:00.000+01:00'}\n",
      "{http://code.deckfour.org/xes}string {'key': 'Activity', 'value': 'reinitiate request'}\n",
      "{http://code.deckfour.org/xes}string {'key': 'Resource', 'value': 'Sara'}\n",
      "{http://code.deckfour.org/xes}string {'key': 'Costs', 'value': '200'}\n",
      "{http://code.deckfour.org/xes}event {}\n",
      "{http://code.deckfour.org/xes}string {'key': 'concept:name', 'value': 'examine thoroughly'}\n",
      "{http://code.deckfour.org/xes}string {'key': 'org:resource', 'value': 'Sean'}\n",
      "{http://code.deckfour.org/xes}date {'key': 'time:timestamp', 'value': '2011-01-06T13:06:00.000+01:00'}\n",
      "{http://code.deckfour.org/xes}string {'key': 'Activity', 'value': 'examine thoroughly'}\n",
      "{http://code.deckfour.org/xes}string {'key': 'Resource', 'value': 'Sean'}\n",
      "{http://code.deckfour.org/xes}string {'key': 'Costs', 'value': '400'}\n",
      "{http://code.deckfour.org/xes}event {}\n",
      "{http://code.deckfour.org/xes}string {'key': 'concept:name', 'value': 'check ticket'}\n",
      "{http://code.deckfour.org/xes}string {'key': 'org:resource', 'value': 'Pete'}\n",
      "{http://code.deckfour.org/xes}date {'key': 'time:timestamp', 'value': '2011-01-08T11:43:00.000+01:00'}\n",
      "{http://code.deckfour.org/xes}string {'key': 'Activity', 'value': 'check ticket'}\n",
      "{http://code.deckfour.org/xes}string {'key': 'Resource', 'value': 'Pete'}\n",
      "{http://code.deckfour.org/xes}string {'key': 'Costs', 'value': '100'}\n",
      "{http://code.deckfour.org/xes}event {}\n",
      "{http://code.deckfour.org/xes}string {'key': 'concept:name', 'value': 'decide'}\n",
      "{http://code.deckfour.org/xes}string {'key': 'org:resource', 'value': 'Sara'}\n",
      "{http://code.deckfour.org/xes}date {'key': 'time:timestamp', 'value': '2011-01-09T09:55:00.000+01:00'}\n",
      "{http://code.deckfour.org/xes}string {'key': 'Activity', 'value': 'decide'}\n",
      "{http://code.deckfour.org/xes}string {'key': 'Resource', 'value': 'Sara'}\n",
      "{http://code.deckfour.org/xes}string {'key': 'Costs', 'value': '200'}\n",
      "{http://code.deckfour.org/xes}event {}\n",
      "{http://code.deckfour.org/xes}string {'key': 'concept:name', 'value': 'pay compensation'}\n",
      "{http://code.deckfour.org/xes}string {'key': 'org:resource', 'value': 'Ellen'}\n",
      "{http://code.deckfour.org/xes}date {'key': 'time:timestamp', 'value': '2011-01-15T10:45:00.000+01:00'}\n",
      "{http://code.deckfour.org/xes}string {'key': 'Activity', 'value': 'pay compensation'}\n",
      "{http://code.deckfour.org/xes}string {'key': 'Resource', 'value': 'Ellen'}\n",
      "{http://code.deckfour.org/xes}string {'key': 'Costs', 'value': '200'}\n",
      "{http://code.deckfour.org/xes}trace {}\n",
      "{http://code.deckfour.org/xes}string {'key': 'concept:name', 'value': '2'}\n",
      "{http://code.deckfour.org/xes}string {'key': 'creator', 'value': 'Fluxicon Nitro'}\n",
      "{http://code.deckfour.org/xes}event {}\n",
      "{http://code.deckfour.org/xes}string {'key': 'concept:name', 'value': 'register request'}\n",
      "{http://code.deckfour.org/xes}string {'key': 'org:resource', 'value': 'Mike'}\n",
      "{http://code.deckfour.org/xes}date {'key': 'time:timestamp', 'value': '2010-12-30T11:32:00.000+01:00'}\n",
      "{http://code.deckfour.org/xes}string {'key': 'Activity', 'value': 'register request'}\n",
      "{http://code.deckfour.org/xes}string {'key': 'Resource', 'value': 'Mike'}\n",
      "{http://code.deckfour.org/xes}string {'key': 'Costs', 'value': '50'}\n",
      "{http://code.deckfour.org/xes}event {}\n",
      "{http://code.deckfour.org/xes}string {'key': 'concept:name', 'value': 'check ticket'}\n",
      "{http://code.deckfour.org/xes}string {'key': 'org:resource', 'value': 'Mike'}\n",
      "{http://code.deckfour.org/xes}date {'key': 'time:timestamp', 'value': '2010-12-30T12:12:00.000+01:00'}\n",
      "{http://code.deckfour.org/xes}string {'key': 'Activity', 'value': 'check ticket'}\n",
      "{http://code.deckfour.org/xes}string {'key': 'Resource', 'value': 'Mike'}\n",
      "{http://code.deckfour.org/xes}string {'key': 'Costs', 'value': '100'}\n",
      "{http://code.deckfour.org/xes}event {}\n",
      "{http://code.deckfour.org/xes}string {'key': 'concept:name', 'value': 'examine casually'}\n",
      "{http://code.deckfour.org/xes}string {'key': 'org:resource', 'value': 'Sean'}\n",
      "{http://code.deckfour.org/xes}date {'key': 'time:timestamp', 'value': '2010-12-30T14:16:00.000+01:00'}\n",
      "{http://code.deckfour.org/xes}string {'key': 'Activity', 'value': 'examine casually'}\n",
      "{http://code.deckfour.org/xes}string {'key': 'Resource', 'value': 'Sean'}\n",
      "{http://code.deckfour.org/xes}string {'key': 'Costs', 'value': '400'}\n",
      "{http://code.deckfour.org/xes}event {}\n",
      "{http://code.deckfour.org/xes}string {'key': 'concept:name', 'value': 'decide'}\n",
      "{http://code.deckfour.org/xes}string {'key': 'org:resource', 'value': 'Sara'}\n",
      "{http://code.deckfour.org/xes}date {'key': 'time:timestamp', 'value': '2011-01-05T11:22:00.000+01:00'}\n",
      "{http://code.deckfour.org/xes}string {'key': 'Activity', 'value': 'decide'}\n",
      "{http://code.deckfour.org/xes}string {'key': 'Resource', 'value': 'Sara'}\n",
      "{http://code.deckfour.org/xes}string {'key': 'Costs', 'value': '200'}\n",
      "{http://code.deckfour.org/xes}event {}\n",
      "{http://code.deckfour.org/xes}string {'key': 'concept:name', 'value': 'pay compensation'}\n",
      "{http://code.deckfour.org/xes}string {'key': 'org:resource', 'value': 'Ellen'}\n",
      "{http://code.deckfour.org/xes}date {'key': 'time:timestamp', 'value': '2011-01-08T12:05:00.000+01:00'}\n",
      "{http://code.deckfour.org/xes}string {'key': 'Activity', 'value': 'pay compensation'}\n",
      "{http://code.deckfour.org/xes}string {'key': 'Resource', 'value': 'Ellen'}\n",
      "{http://code.deckfour.org/xes}string {'key': 'Costs', 'value': '200'}\n",
      "{http://code.deckfour.org/xes}trace {}\n",
      "{http://code.deckfour.org/xes}string {'key': 'concept:name', 'value': '1'}\n",
      "{http://code.deckfour.org/xes}string {'key': 'creator', 'value': 'Fluxicon Nitro'}\n",
      "{http://code.deckfour.org/xes}event {}\n",
      "{http://code.deckfour.org/xes}string {'key': 'concept:name', 'value': 'register request'}\n",
      "{http://code.deckfour.org/xes}string {'key': 'org:resource', 'value': 'Pete'}\n",
      "{http://code.deckfour.org/xes}date {'key': 'time:timestamp', 'value': '2010-12-30T11:02:00.000+01:00'}\n",
      "{http://code.deckfour.org/xes}string {'key': 'Activity', 'value': 'register request'}\n",
      "{http://code.deckfour.org/xes}string {'key': 'Resource', 'value': 'Pete'}\n",
      "{http://code.deckfour.org/xes}string {'key': 'Costs', 'value': '50'}\n",
      "{http://code.deckfour.org/xes}event {}\n",
      "{http://code.deckfour.org/xes}string {'key': 'concept:name', 'value': 'examine thoroughly'}\n",
      "{http://code.deckfour.org/xes}string {'key': 'org:resource', 'value': 'Sue'}\n",
      "{http://code.deckfour.org/xes}date {'key': 'time:timestamp', 'value': '2010-12-31T10:06:00.000+01:00'}\n",
      "{http://code.deckfour.org/xes}string {'key': 'Activity', 'value': 'examine thoroughly'}\n",
      "{http://code.deckfour.org/xes}string {'key': 'Resource', 'value': 'Sue'}\n",
      "{http://code.deckfour.org/xes}string {'key': 'Costs', 'value': '400'}\n",
      "{http://code.deckfour.org/xes}event {}\n",
      "{http://code.deckfour.org/xes}string {'key': 'concept:name', 'value': 'check ticket'}\n",
      "{http://code.deckfour.org/xes}string {'key': 'org:resource', 'value': 'Mike'}\n",
      "{http://code.deckfour.org/xes}date {'key': 'time:timestamp', 'value': '2011-01-05T15:12:00.000+01:00'}\n",
      "{http://code.deckfour.org/xes}string {'key': 'Activity', 'value': 'check ticket'}\n",
      "{http://code.deckfour.org/xes}string {'key': 'Resource', 'value': 'Mike'}\n",
      "{http://code.deckfour.org/xes}string {'key': 'Costs', 'value': '100'}\n",
      "{http://code.deckfour.org/xes}event {}\n",
      "{http://code.deckfour.org/xes}string {'key': 'concept:name', 'value': 'decide'}\n",
      "{http://code.deckfour.org/xes}string {'key': 'org:resource', 'value': 'Sara'}\n",
      "{http://code.deckfour.org/xes}date {'key': 'time:timestamp', 'value': '2011-01-06T11:18:00.000+01:00'}\n",
      "{http://code.deckfour.org/xes}string {'key': 'Activity', 'value': 'decide'}\n",
      "{http://code.deckfour.org/xes}string {'key': 'Resource', 'value': 'Sara'}\n",
      "{http://code.deckfour.org/xes}string {'key': 'Costs', 'value': '200'}\n",
      "{http://code.deckfour.org/xes}event {}\n",
      "{http://code.deckfour.org/xes}string {'key': 'concept:name', 'value': 'reject request'}\n",
      "{http://code.deckfour.org/xes}string {'key': 'org:resource', 'value': 'Pete'}\n",
      "{http://code.deckfour.org/xes}date {'key': 'time:timestamp', 'value': '2011-01-07T14:24:00.000+01:00'}\n",
      "{http://code.deckfour.org/xes}string {'key': 'Activity', 'value': 'reject request'}\n",
      "{http://code.deckfour.org/xes}string {'key': 'Resource', 'value': 'Pete'}\n",
      "{http://code.deckfour.org/xes}string {'key': 'Costs', 'value': '200'}\n",
      "{http://code.deckfour.org/xes}trace {}\n",
      "{http://code.deckfour.org/xes}string {'key': 'concept:name', 'value': '6'}\n",
      "{http://code.deckfour.org/xes}string {'key': 'creator', 'value': 'Fluxicon Nitro'}\n",
      "{http://code.deckfour.org/xes}event {}\n",
      "{http://code.deckfour.org/xes}string {'key': 'concept:name', 'value': 'register request'}\n",
      "{http://code.deckfour.org/xes}string {'key': 'org:resource', 'value': 'Mike'}\n",
      "{http://code.deckfour.org/xes}date {'key': 'time:timestamp', 'value': '2011-01-06T15:02:00.000+01:00'}\n",
      "{http://code.deckfour.org/xes}string {'key': 'Activity', 'value': 'register request'}\n",
      "{http://code.deckfour.org/xes}string {'key': 'Resource', 'value': 'Mike'}\n",
      "{http://code.deckfour.org/xes}string {'key': 'Costs', 'value': '50'}\n",
      "{http://code.deckfour.org/xes}event {}\n",
      "{http://code.deckfour.org/xes}string {'key': 'concept:name', 'value': 'examine casually'}\n",
      "{http://code.deckfour.org/xes}string {'key': 'org:resource', 'value': 'Ellen'}\n",
      "{http://code.deckfour.org/xes}date {'key': 'time:timestamp', 'value': '2011-01-06T16:06:00.000+01:00'}\n",
      "{http://code.deckfour.org/xes}string {'key': 'Activity', 'value': 'examine casually'}\n",
      "{http://code.deckfour.org/xes}string {'key': 'Resource', 'value': 'Ellen'}\n",
      "{http://code.deckfour.org/xes}string {'key': 'Costs', 'value': '400'}\n",
      "{http://code.deckfour.org/xes}event {}\n",
      "{http://code.deckfour.org/xes}string {'key': 'concept:name', 'value': 'check ticket'}\n",
      "{http://code.deckfour.org/xes}string {'key': 'org:resource', 'value': 'Mike'}\n",
      "{http://code.deckfour.org/xes}date {'key': 'time:timestamp', 'value': '2011-01-07T16:22:00.000+01:00'}\n",
      "{http://code.deckfour.org/xes}string {'key': 'Activity', 'value': 'check ticket'}\n",
      "{http://code.deckfour.org/xes}string {'key': 'Resource', 'value': 'Mike'}\n",
      "{http://code.deckfour.org/xes}string {'key': 'Costs', 'value': '100'}\n",
      "{http://code.deckfour.org/xes}event {}\n",
      "{http://code.deckfour.org/xes}string {'key': 'concept:name', 'value': 'decide'}\n",
      "{http://code.deckfour.org/xes}string {'key': 'org:resource', 'value': 'Sara'}\n",
      "{http://code.deckfour.org/xes}date {'key': 'time:timestamp', 'value': '2011-01-07T16:52:00.000+01:00'}\n",
      "{http://code.deckfour.org/xes}string {'key': 'Activity', 'value': 'decide'}\n",
      "{http://code.deckfour.org/xes}string {'key': 'Resource', 'value': 'Sara'}\n",
      "{http://code.deckfour.org/xes}string {'key': 'Costs', 'value': '200'}\n",
      "{http://code.deckfour.org/xes}event {}\n",
      "{http://code.deckfour.org/xes}string {'key': 'concept:name', 'value': 'pay compensation'}\n",
      "{http://code.deckfour.org/xes}string {'key': 'org:resource', 'value': 'Mike'}\n",
      "{http://code.deckfour.org/xes}date {'key': 'time:timestamp', 'value': '2011-01-16T11:47:00.000+01:00'}\n",
      "{http://code.deckfour.org/xes}string {'key': 'Activity', 'value': 'pay compensation'}\n",
      "{http://code.deckfour.org/xes}string {'key': 'Resource', 'value': 'Mike'}\n",
      "{http://code.deckfour.org/xes}string {'key': 'Costs', 'value': '200'}\n",
      "{http://code.deckfour.org/xes}trace {}\n",
      "{http://code.deckfour.org/xes}string {'key': 'concept:name', 'value': '5'}\n",
      "{http://code.deckfour.org/xes}string {'key': 'creator', 'value': 'Fluxicon Nitro'}\n",
      "{http://code.deckfour.org/xes}event {}\n",
      "{http://code.deckfour.org/xes}string {'key': 'concept:name', 'value': 'register request'}\n",
      "{http://code.deckfour.org/xes}string {'key': 'org:resource', 'value': 'Ellen'}\n",
      "{http://code.deckfour.org/xes}date {'key': 'time:timestamp', 'value': '2011-01-06T09:02:00.000+01:00'}\n",
      "{http://code.deckfour.org/xes}string {'key': 'Activity', 'value': 'register request'}\n",
      "{http://code.deckfour.org/xes}string {'key': 'Resource', 'value': 'Ellen'}\n",
      "{http://code.deckfour.org/xes}string {'key': 'Costs', 'value': '50'}\n",
      "{http://code.deckfour.org/xes}event {}\n",
      "{http://code.deckfour.org/xes}string {'key': 'concept:name', 'value': 'examine casually'}\n",
      "{http://code.deckfour.org/xes}string {'key': 'org:resource', 'value': 'Mike'}\n",
      "{http://code.deckfour.org/xes}date {'key': 'time:timestamp', 'value': '2011-01-07T10:16:00.000+01:00'}\n",
      "{http://code.deckfour.org/xes}string {'key': 'Activity', 'value': 'examine casually'}\n",
      "{http://code.deckfour.org/xes}string {'key': 'Resource', 'value': 'Mike'}\n",
      "{http://code.deckfour.org/xes}string {'key': 'Costs', 'value': '400'}\n",
      "{http://code.deckfour.org/xes}event {}\n",
      "{http://code.deckfour.org/xes}string {'key': 'concept:name', 'value': 'check ticket'}\n",
      "{http://code.deckfour.org/xes}string {'key': 'org:resource', 'value': 'Pete'}\n",
      "{http://code.deckfour.org/xes}date {'key': 'time:timestamp', 'value': '2011-01-08T11:22:00.000+01:00'}\n",
      "{http://code.deckfour.org/xes}string {'key': 'Activity', 'value': 'check ticket'}\n",
      "{http://code.deckfour.org/xes}string {'key': 'Resource', 'value': 'Pete'}\n",
      "{http://code.deckfour.org/xes}string {'key': 'Costs', 'value': '100'}\n",
      "{http://code.deckfour.org/xes}event {}\n",
      "{http://code.deckfour.org/xes}string {'key': 'concept:name', 'value': 'decide'}\n",
      "{http://code.deckfour.org/xes}string {'key': 'org:resource', 'value': 'Sara'}\n",
      "{http://code.deckfour.org/xes}date {'key': 'time:timestamp', 'value': '2011-01-10T13:28:00.000+01:00'}\n",
      "{http://code.deckfour.org/xes}string {'key': 'Activity', 'value': 'decide'}\n",
      "{http://code.deckfour.org/xes}string {'key': 'Resource', 'value': 'Sara'}\n",
      "{http://code.deckfour.org/xes}string {'key': 'Costs', 'value': '200'}\n",
      "{http://code.deckfour.org/xes}event {}\n",
      "{http://code.deckfour.org/xes}string {'key': 'concept:name', 'value': 'reinitiate request'}\n",
      "{http://code.deckfour.org/xes}string {'key': 'org:resource', 'value': 'Sara'}\n",
      "{http://code.deckfour.org/xes}date {'key': 'time:timestamp', 'value': '2011-01-11T16:18:00.000+01:00'}\n",
      "{http://code.deckfour.org/xes}string {'key': 'Activity', 'value': 'reinitiate request'}\n",
      "{http://code.deckfour.org/xes}string {'key': 'Resource', 'value': 'Sara'}\n",
      "{http://code.deckfour.org/xes}string {'key': 'Costs', 'value': '200'}\n",
      "{http://code.deckfour.org/xes}event {}\n",
      "{http://code.deckfour.org/xes}string {'key': 'concept:name', 'value': 'check ticket'}\n",
      "{http://code.deckfour.org/xes}string {'key': 'org:resource', 'value': 'Ellen'}\n",
      "{http://code.deckfour.org/xes}date {'key': 'time:timestamp', 'value': '2011-01-14T14:33:00.000+01:00'}\n",
      "{http://code.deckfour.org/xes}string {'key': 'Activity', 'value': 'check ticket'}\n",
      "{http://code.deckfour.org/xes}string {'key': 'Resource', 'value': 'Ellen'}\n",
      "{http://code.deckfour.org/xes}string {'key': 'Costs', 'value': '100'}\n",
      "{http://code.deckfour.org/xes}event {}\n",
      "{http://code.deckfour.org/xes}string {'key': 'concept:name', 'value': 'examine casually'}\n",
      "{http://code.deckfour.org/xes}string {'key': 'org:resource', 'value': 'Mike'}\n",
      "{http://code.deckfour.org/xes}date {'key': 'time:timestamp', 'value': '2011-01-16T15:50:00.000+01:00'}\n",
      "{http://code.deckfour.org/xes}string {'key': 'Activity', 'value': 'examine casually'}\n",
      "{http://code.deckfour.org/xes}string {'key': 'Resource', 'value': 'Mike'}\n",
      "{http://code.deckfour.org/xes}string {'key': 'Costs', 'value': '400'}\n",
      "{http://code.deckfour.org/xes}event {}\n",
      "{http://code.deckfour.org/xes}string {'key': 'concept:name', 'value': 'decide'}\n",
      "{http://code.deckfour.org/xes}string {'key': 'org:resource', 'value': 'Sara'}\n",
      "{http://code.deckfour.org/xes}date {'key': 'time:timestamp', 'value': '2011-01-19T11:18:00.000+01:00'}\n",
      "{http://code.deckfour.org/xes}string {'key': 'Activity', 'value': 'decide'}\n",
      "{http://code.deckfour.org/xes}string {'key': 'Resource', 'value': 'Sara'}\n",
      "{http://code.deckfour.org/xes}string {'key': 'Costs', 'value': '200'}\n",
      "{http://code.deckfour.org/xes}event {}\n",
      "{http://code.deckfour.org/xes}string {'key': 'concept:name', 'value': 'reinitiate request'}\n",
      "{http://code.deckfour.org/xes}string {'key': 'org:resource', 'value': 'Sara'}\n",
      "{http://code.deckfour.org/xes}date {'key': 'time:timestamp', 'value': '2011-01-20T12:48:00.000+01:00'}\n",
      "{http://code.deckfour.org/xes}string {'key': 'Activity', 'value': 'reinitiate request'}\n",
      "{http://code.deckfour.org/xes}string {'key': 'Resource', 'value': 'Sara'}\n",
      "{http://code.deckfour.org/xes}string {'key': 'Costs', 'value': '200'}\n",
      "{http://code.deckfour.org/xes}event {}\n",
      "{http://code.deckfour.org/xes}string {'key': 'concept:name', 'value': 'examine casually'}\n",
      "{http://code.deckfour.org/xes}string {'key': 'org:resource', 'value': 'Sue'}\n",
      "{http://code.deckfour.org/xes}date {'key': 'time:timestamp', 'value': '2011-01-21T09:06:00.000+01:00'}\n",
      "{http://code.deckfour.org/xes}string {'key': 'Activity', 'value': 'examine casually'}\n",
      "{http://code.deckfour.org/xes}string {'key': 'Resource', 'value': 'Sue'}\n",
      "{http://code.deckfour.org/xes}string {'key': 'Costs', 'value': '400'}\n",
      "{http://code.deckfour.org/xes}event {}\n",
      "{http://code.deckfour.org/xes}string {'key': 'concept:name', 'value': 'check ticket'}\n",
      "{http://code.deckfour.org/xes}string {'key': 'org:resource', 'value': 'Pete'}\n",
      "{http://code.deckfour.org/xes}date {'key': 'time:timestamp', 'value': '2011-01-21T11:34:00.000+01:00'}\n",
      "{http://code.deckfour.org/xes}string {'key': 'Activity', 'value': 'check ticket'}\n",
      "{http://code.deckfour.org/xes}string {'key': 'Resource', 'value': 'Pete'}\n",
      "{http://code.deckfour.org/xes}string {'key': 'Costs', 'value': '100'}\n",
      "{http://code.deckfour.org/xes}event {}\n",
      "{http://code.deckfour.org/xes}string {'key': 'concept:name', 'value': 'decide'}\n",
      "{http://code.deckfour.org/xes}string {'key': 'org:resource', 'value': 'Sara'}\n",
      "{http://code.deckfour.org/xes}date {'key': 'time:timestamp', 'value': '2011-01-23T13:12:00.000+01:00'}\n",
      "{http://code.deckfour.org/xes}string {'key': 'Activity', 'value': 'decide'}\n",
      "{http://code.deckfour.org/xes}string {'key': 'Resource', 'value': 'Sara'}\n",
      "{http://code.deckfour.org/xes}string {'key': 'Costs', 'value': '200'}\n",
      "{http://code.deckfour.org/xes}event {}\n",
      "{http://code.deckfour.org/xes}string {'key': 'concept:name', 'value': 'reject request'}\n",
      "{http://code.deckfour.org/xes}string {'key': 'org:resource', 'value': 'Mike'}\n",
      "{http://code.deckfour.org/xes}date {'key': 'time:timestamp', 'value': '2011-01-24T14:56:00.000+01:00'}\n",
      "{http://code.deckfour.org/xes}string {'key': 'Activity', 'value': 'reject request'}\n",
      "{http://code.deckfour.org/xes}string {'key': 'Resource', 'value': 'Mike'}\n",
      "{http://code.deckfour.org/xes}string {'key': 'Costs', 'value': '200'}\n",
      "{http://code.deckfour.org/xes}trace {}\n",
      "{http://code.deckfour.org/xes}string {'key': 'concept:name', 'value': '4'}\n",
      "{http://code.deckfour.org/xes}string {'key': 'creator', 'value': 'Fluxicon Nitro'}\n",
      "{http://code.deckfour.org/xes}event {}\n",
      "{http://code.deckfour.org/xes}string {'key': 'concept:name', 'value': 'register request'}\n",
      "{http://code.deckfour.org/xes}string {'key': 'org:resource', 'value': 'Pete'}\n",
      "{http://code.deckfour.org/xes}date {'key': 'time:timestamp', 'value': '2011-01-06T15:02:00.000+01:00'}\n",
      "{http://code.deckfour.org/xes}string {'key': 'Activity', 'value': 'register request'}\n",
      "{http://code.deckfour.org/xes}string {'key': 'Resource', 'value': 'Pete'}\n",
      "{http://code.deckfour.org/xes}string {'key': 'Costs', 'value': '50'}\n",
      "{http://code.deckfour.org/xes}event {}\n",
      "{http://code.deckfour.org/xes}string {'key': 'concept:name', 'value': 'check ticket'}\n",
      "{http://code.deckfour.org/xes}string {'key': 'org:resource', 'value': 'Mike'}\n",
      "{http://code.deckfour.org/xes}date {'key': 'time:timestamp', 'value': '2011-01-07T12:06:00.000+01:00'}\n",
      "{http://code.deckfour.org/xes}string {'key': 'Activity', 'value': 'check ticket'}\n",
      "{http://code.deckfour.org/xes}string {'key': 'Resource', 'value': 'Mike'}\n",
      "{http://code.deckfour.org/xes}string {'key': 'Costs', 'value': '100'}\n",
      "{http://code.deckfour.org/xes}event {}\n",
      "{http://code.deckfour.org/xes}string {'key': 'concept:name', 'value': 'examine thoroughly'}\n",
      "{http://code.deckfour.org/xes}string {'key': 'org:resource', 'value': 'Sean'}\n",
      "{http://code.deckfour.org/xes}date {'key': 'time:timestamp', 'value': '2011-01-08T14:43:00.000+01:00'}\n",
      "{http://code.deckfour.org/xes}string {'key': 'Activity', 'value': 'examine thoroughly'}\n",
      "{http://code.deckfour.org/xes}string {'key': 'Resource', 'value': 'Sean'}\n",
      "{http://code.deckfour.org/xes}string {'key': 'Costs', 'value': '400'}\n",
      "{http://code.deckfour.org/xes}event {}\n",
      "{http://code.deckfour.org/xes}string {'key': 'concept:name', 'value': 'decide'}\n",
      "{http://code.deckfour.org/xes}string {'key': 'org:resource', 'value': 'Sara'}\n",
      "{http://code.deckfour.org/xes}date {'key': 'time:timestamp', 'value': '2011-01-09T12:02:00.000+01:00'}\n",
      "{http://code.deckfour.org/xes}string {'key': 'Activity', 'value': 'decide'}\n",
      "{http://code.deckfour.org/xes}string {'key': 'Resource', 'value': 'Sara'}\n",
      "{http://code.deckfour.org/xes}string {'key': 'Costs', 'value': '200'}\n",
      "{http://code.deckfour.org/xes}event {}\n",
      "{http://code.deckfour.org/xes}string {'key': 'concept:name', 'value': 'reject request'}\n",
      "{http://code.deckfour.org/xes}string {'key': 'org:resource', 'value': 'Ellen'}\n",
      "{http://code.deckfour.org/xes}date {'key': 'time:timestamp', 'value': '2011-01-12T15:44:00.000+01:00'}\n",
      "{http://code.deckfour.org/xes}string {'key': 'Activity', 'value': 'reject request'}\n",
      "{http://code.deckfour.org/xes}string {'key': 'Resource', 'value': 'Ellen'}\n",
      "{http://code.deckfour.org/xes}string {'key': 'Costs', 'value': '200'}\n"
     ]
    }
   ],
   "source": [
    "# iter 方法可以对子结点进行深度优先遍历\n",
    "for elem in tree.iter():\n",
    "    print(elem.tag, elem.attrib)"
   ]
  },
  {
   "cell_type": "markdown",
   "metadata": {},
   "source": [
    "Element 有一些关于寻找的方法可以接受 XPath 作为参数。 \n",
    "find 返回第一个匹配的子元素， \n",
    "findall 以列表的形式返回所有匹配的子元素， \n",
    "iterfind 为所有匹配项提供迭代器。"
   ]
  },
  {
   "cell_type": "code",
   "execution_count": 38,
   "metadata": {},
   "outputs": [
    {
     "name": "stdout",
     "output_type": "stream",
     "text": [
      "movie {'title': 'Enemy Behind'}\n"
     ]
    }
   ],
   "source": [
    "# 给出如何找到所有的 movie 元素，用一个指定 title 的状态：\n",
    "for elem in tree.iterfind('movie[@title=\"Enemy Behind\"]'):\n",
    "    print(elem.tag, elem.attrib)"
   ]
  },
  {
   "cell_type": "code",
   "execution_count": 4,
   "metadata": {},
   "outputs": [
    {
     "data": {
      "text/plain": [
       "<Element 'collection' at 0x7f380824b1d8>"
      ]
     },
     "execution_count": 4,
     "metadata": {},
     "output_type": "execute_result"
    }
   ],
   "source": [
    "# 读取xml文档，修改，再将结果写回xml文档\n",
    "from xml.etree.ElementTree import parse, Element\n",
    "# 第一步是以通常的方式来解析这个文档\n",
    "doc = parse('movies.xml') \n",
    "root = doc.getroot()\n",
    "root"
   ]
  },
  {
   "cell_type": "markdown",
   "metadata": {},
   "source": [
    "## 建立xml文档"
   ]
  },
  {
   "cell_type": "code",
   "execution_count": 42,
   "metadata": {},
   "outputs": [
    {
     "name": "stdout",
     "output_type": "stream",
     "text": [
      "movie {'foo': 'bar', 'title': 'Enemy Behind'}\n",
      "movie {'title': 'Transformers'}\n",
      "movie {'title': 'Trigun'}\n"
     ]
    }
   ],
   "source": [
    "# 修改文档可以使用 Element 对象的方法：\n",
    "root = tree.getroot()\n",
    "# 删除了根元素的第三个子结点\n",
    "del root[3]\n",
    "# 为第一个子结点增加新状态\n",
    "root[0].set('foo', 'bar')\n",
    "for subelem in root:\n",
    "    print(subelem.tag, subelem.attrib)"
   ]
  },
  {
   "cell_type": "code",
   "execution_count": 43,
   "metadata": {},
   "outputs": [
    {
     "name": "stdout",
     "output_type": "stream",
     "text": [
      "<collection shelf=\"New Arrivals\">\n",
      "<movie foo=\"bar\" title=\"Enemy Behind\">\n",
      "   <type>War, Thriller</type>\n",
      "   <format>DVD</format>\n",
      "   <year>2003</year>\n",
      "   <rating>PG</rating>\n",
      "   <stars>10</stars>\n",
      "   <description>Talk about a US-Japan war</description>\n",
      "</movie>\n",
      "<movie title=\"Transformers\">\n",
      "   <type>Anime, Science Fiction</type>\n",
      "   <format>DVD</format>\n",
      "   <year>1989</year>\n",
      "   <rating>R</rating>\n",
      "   <stars>8</stars>\n",
      "   <description>A schientific fiction</description>\n",
      "</movie>\n",
      "   <movie title=\"Trigun\">\n",
      "   <type>Anime, Action</type>\n",
      "   <format>DVD</format>\n",
      "   <episodes>4</episodes>\n",
      "   <rating>PG</rating>\n",
      "   <stars>10</stars>\n",
      "   <description>Vash the Stampede!</description>\n",
      "</movie>\n",
      "</collection>"
     ]
    }
   ],
   "source": [
    "# 这个树可以写回到文件中\n",
    "import sys\n",
    "tree.write(sys.stdout) # ET.dump can also serve this purpose"
   ]
  },
  {
   "cell_type": "code",
   "execution_count": 44,
   "metadata": {},
   "outputs": [
    {
     "name": "stdout",
     "output_type": "stream",
     "text": [
      "<root><elem><child1>some text</child1><child2 /></elem><elem_b /></root>"
     ]
    }
   ],
   "source": [
    "# 建立一个全新的元素。ET 模块提供了 SubElement 函数来简化过程：\n",
    "a = ET.Element('elem')\n",
    "a_1 = ET.SubElement(a, 'child1')\n",
    "a_1.text = 'some text'\n",
    "a_2 = ET.SubElement(a, 'child2')\n",
    "b = ET.Element('elem_b')\n",
    "root = ET.Element('root')\n",
    "root.extend((a, b))\n",
    "tree = ET.ElementTree(root)\n",
    "tree.write(sys.stdout)"
   ]
  },
  {
   "cell_type": "markdown",
   "metadata": {},
   "source": [
    "## 使用 iterparse 来处理 XML 流"
   ]
  },
  {
   "cell_type": "code",
   "execution_count": 51,
   "metadata": {},
   "outputs": [
    {
     "name": "stdout",
     "output_type": "stream",
     "text": [
      "3\n"
     ]
    }
   ],
   "source": [
    "import xml.etree.ElementTree as ET\n",
    "#加载并解析XML文件\n",
    "tree = ET.ElementTree(file = 'movies.xml') # file = 一定不能忘\n",
    "count = 0\n",
    "for elem in tree.iter(tag = 'format'):\n",
    "    if elem.text == 'DVD':\n",
    "        count += 1\n",
    "print(count)"
   ]
  },
  {
   "cell_type": "markdown",
   "metadata": {},
   "source": [
    "## dict to xml"
   ]
  },
  {
   "cell_type": "code",
   "execution_count": 13,
   "metadata": {},
   "outputs": [
    {
     "data": {
      "text/plain": [
       "<Element 'stock' at 0x7f0360497228>"
      ]
     },
     "execution_count": 13,
     "metadata": {},
     "output_type": "execute_result"
    }
   ],
   "source": [
    "# dict to xml 你想使用一个Python字典存储数据，并将它转换成XML格式。\n",
    "from xml.etree.ElementTree import Element\n",
    "def dict_to_xml(tag, d):\n",
    "#Turn a simple dict of key/value pairs into XML\n",
    "    elem = Element(tag)\n",
    "    for key, val in d.items():\n",
    "        child = Element(key)\n",
    "        child.text = str(val)\n",
    "        elem.append(child)\n",
    "    return elem\n",
    "\n",
    "s = { 'name': 'GOOG', 'shares': 100, 'price':490.1 }\n",
    "e = dict_to_xml('stock', s)\n",
    "e # 转换结果是一个 Element 实例。"
   ]
  },
  {
   "cell_type": "markdown",
   "metadata": {},
   "source": [
    "## DOM(Document Object Model)"
   ]
  },
  {
   "cell_type": "markdown",
   "metadata": {},
   "source": [
    "一个 DOM 的解析器在解析一个 XML 文档时，一次性读取整个文档，把文档中所有元素保存在内存中的一个树结构里，之后你可以利用DOM 提供的不同的函数来读取或修改文档的内容和结构，也可以把修改过的内容写入xml文件。\n",
    "python中用xml.dom.minidom来解析xml文件:"
   ]
  },
  {
   "cell_type": "code",
   "execution_count": 5,
   "metadata": {},
   "outputs": [
    {
     "name": "stdout",
     "output_type": "stream",
     "text": [
      "Root element : New Arrivals\n",
      "**Movie**\n",
      "Title: Enemy Behind\n",
      "Type War, Thriller\n",
      "Format: PG\n",
      "Rating: PG\n",
      "Description: Talk about a US-Japan war\n",
      "**Movie**\n",
      "Title: Transformers\n",
      "Type Anime, Science Fiction\n",
      "Format: R\n",
      "Rating: R\n",
      "Description: A schientific fiction\n",
      "**Movie**\n",
      "Title: Trigun\n",
      "Type Anime, Action\n",
      "Format: PG\n",
      "Rating: PG\n",
      "Description: Vash the Stampede!\n",
      "**Movie**\n",
      "Title: Ishtar\n",
      "Type Comedy\n",
      "Format: PG\n",
      "Rating: PG\n",
      "Description: Viewable boredom\n"
     ]
    }
   ],
   "source": [
    "import xml.dom.minidom\n",
    "from xml.dom.minidom import parse\n",
    "# 使用minidom解析器打开xml文档\n",
    "DOMTree = xml.dom.minidom.parse('movies.xml')\n",
    "collection = DOMTree.documentElement\n",
    "if collection.hasAttribute('shelf'):\n",
    "    print('Root element : %s' % collection.getAttribute('shelf'))\n",
    "    \n",
    "# 在集合中获取所有电影\n",
    "movies = collection.getElementsByTagName('movie')\n",
    "\n",
    "# 打印每部电影的详细信息\n",
    "for movie in movies:\n",
    "    print('**Movie**')\n",
    "    if movie.hasAttribute('title'):\n",
    "        print('Title: %s' % movie.getAttribute('title'))\n",
    "        \n",
    "    type = movie.getElementsByTagName('type')[0]\n",
    "    print('Type %s' % type.childNodes[0].data)\n",
    "    format = movie.getElementsByTagName('rating')[0]\n",
    "    print (\"Format: %s\" % format.childNodes[0].data)\n",
    "    rating = movie.getElementsByTagName('rating')[0]\n",
    "    print (\"Rating: %s\" % rating.childNodes[0].data)\n",
    "    description = movie.getElementsByTagName('description')[0]\n",
    "    print (\"Description: %s\" % description.childNodes[0].data)"
   ]
  }
 ],
 "metadata": {
  "kernelspec": {
   "display_name": "Python 3",
   "language": "python",
   "name": "python3"
  },
  "language_info": {
   "codemirror_mode": {
    "name": "ipython",
    "version": 3
   },
   "file_extension": ".py",
   "mimetype": "text/x-python",
   "name": "python",
   "nbconvert_exporter": "python",
   "pygments_lexer": "ipython3",
   "version": "3.5.3"
  }
 },
 "nbformat": 4,
 "nbformat_minor": 2
}
