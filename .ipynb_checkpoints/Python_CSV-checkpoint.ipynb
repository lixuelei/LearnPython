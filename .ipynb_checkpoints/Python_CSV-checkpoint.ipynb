{
 "cells": [
  {
   "cell_type": "markdown",
   "metadata": {},
   "source": [
    "python dict to csv"
   ]
  },
  {
   "cell_type": "code",
   "execution_count": 9,
   "metadata": {
    "collapsed": true
   },
   "outputs": [],
   "source": [
    "headers = ['Symbol', 'Price', 'Date', 'Time', 'Change', 'Volume']\n",
    "rows = [{'Symbol':'AA', 'Price':39.48, 'Date':'6/11/2007',\n",
    "        'Time':'9:36am', 'Change':-0.18, 'Volume':181800},\n",
    "        {'Symbol':'AIG', 'Price': 71.38, 'Date':'6/11/2007',\n",
    "        'Time':'9:36am', 'Change':-0.15, 'Volume': 195500},\n",
    "        {'Symbol':'AXP', 'Price': 62.58, 'Date':'6/11/2007',\n",
    "        'Time':'9:36am', 'Change':-0.46, 'Volume': 935000},\n",
    "        ]\n",
    "# write dict to an empty csv file:\n",
    "with open('data.csv','w') as f:\n",
    "    f_csv = csv.DictWriter(f, headers)\n",
    "    f_csv.writeheader()\n",
    "    f_csv.writerows(rows)"
   ]
  },
  {
   "cell_type": "code",
   "execution_count": 11,
   "metadata": {},
   "outputs": [
    {
     "name": "stdout",
     "output_type": "stream",
     "text": [
      "{'Symbol': 'AA', 'Price': '39.48', 'Change': '-0.18', 'Time': '9:36am', 'Date': '6/11/2007', 'Volume': '181800'}\n",
      "{'Symbol': 'AIG', 'Price': '71.38', 'Change': '-0.15', 'Time': '9:36am', 'Date': '6/11/2007', 'Volume': '195500'}\n",
      "{'Symbol': 'AXP', 'Price': '62.58', 'Change': '-0.46', 'Time': '9:36am', 'Date': '6/11/2007', 'Volume': '935000'}\n"
     ]
    }
   ],
   "source": [
    "# read dict from a csv file:\n",
    "import csv\n",
    "with open('data.csv') as f:\n",
    "    f_csv = csv.DictReader(f)\n",
    "    for row in f_csv:\n",
    "        print(row)"
   ]
  },
  {
   "cell_type": "markdown",
   "metadata": {},
   "source": [
    "list to csv"
   ]
  },
  {
   "cell_type": "code",
   "execution_count": 13,
   "metadata": {
    "collapsed": true
   },
   "outputs": [],
   "source": [
    "headers = ['Symbol','Price','Date','Time','Change','Volume']\n",
    "rows = [('AA', 39.48, '6/11/2007', '9:36am', -0.18, 181800),\n",
    "         ('AIG', 71.38, '6/11/2007', '9:36am', -0.15, 195500),\n",
    "         ('AXP', 62.58, '6/11/2007', '9:36am', -0.46, 935000),\n",
    "       ]\n",
    "with open('data2.csv', 'w') as f: #不用提前创建data2.csv，可直接生成\n",
    "    f_csv = csv.writer(f)\n",
    "    f_csv.writerow(headers)\n",
    "    f_csv.writerows(rows)"
   ]
  },
  {
   "cell_type": "markdown",
   "metadata": {},
   "source": [
    "read csv data as list, tuple, dict"
   ]
  },
  {
   "cell_type": "code",
   "execution_count": 14,
   "metadata": {},
   "outputs": [
    {
     "name": "stdout",
     "output_type": "stream",
     "text": [
      "['AA', '39.48', '6/11/2007', '9:36am', '-0.18', '181800']\n",
      "['AIG', '71.38', '6/11/2007', '9:36am', '-0.15', '195500']\n",
      "['AXP', '62.58', '6/11/2007', '9:36am', '-0.46', '935000']\n"
     ]
    }
   ],
   "source": [
    "# list\n",
    "import csv\n",
    "with open('data2.csv') as f:\n",
    "    f_csv = csv.reader(f)\n",
    "    headers = next(f_csv)\n",
    "    for row in f_csv:\n",
    "        print(row)"
   ]
  },
  {
   "cell_type": "markdown",
   "metadata": {},
   "source": [
    "在上面的代码中， row 会是一个列表。因此，为了访问某个字段，你需要使用下标，如 row[0] 访问Symbol， row[4] 访问Change。"
   ]
  },
  {
   "cell_type": "code",
   "execution_count": 15,
   "metadata": {},
   "outputs": [
    {
     "name": "stdout",
     "output_type": "stream",
     "text": [
      "Row(Symbol='AA', Price='39.48', Date='6/11/2007', Time='9:36am', Change='-0.18', Volume='181800')\n",
      "Row(Symbol='AIG', Price='71.38', Date='6/11/2007', Time='9:36am', Change='-0.15', Volume='195500')\n",
      "Row(Symbol='AXP', Price='62.58', Date='6/11/2007', Time='9:36am', Change='-0.46', Volume='935000')\n"
     ]
    }
   ],
   "source": [
    "# tuple\n",
    "from collections import namedtuple\n",
    "with open('data2.csv') as f:\n",
    "    f_csv = csv.reader(f)\n",
    "    headings = next(f_csv)\n",
    "    Row = namedtuple('Row', headings)\n",
    "    for r in f_csv:\n",
    "        row = Row(*r)\n",
    "        print(row)"
   ]
  },
  {
   "cell_type": "markdown",
   "metadata": {},
   "source": [
    "它允许你使用列名如 row.Symbol 和 row.Change 代替下标访问。"
   ]
  },
  {
   "cell_type": "code",
   "execution_count": 16,
   "metadata": {},
   "outputs": [
    {
     "name": "stdout",
     "output_type": "stream",
     "text": [
      "{'Symbol': 'AA', 'Price': '39.48', 'Change': '-0.18', 'Time': '9:36am', 'Date': '6/11/2007', 'Volume': '181800'}\n",
      "{'Symbol': 'AIG', 'Price': '71.38', 'Change': '-0.15', 'Time': '9:36am', 'Date': '6/11/2007', 'Volume': '195500'}\n",
      "{'Symbol': 'AXP', 'Price': '62.58', 'Change': '-0.46', 'Time': '9:36am', 'Date': '6/11/2007', 'Volume': '935000'}\n"
     ]
    }
   ],
   "source": [
    "# dict\n",
    "import csv\n",
    "with open('data2.csv') as f:\n",
    "    f_csv = csv.DictReader(f)\n",
    "    for row in f_csv:\n",
    "        print(row)"
   ]
  },
  {
   "cell_type": "markdown",
   "metadata": {},
   "source": [
    "在这个版本中，你可以使用列名去访问每一行的数据了。比如，row['Symbol'] 或者 row['Change']"
   ]
  },
  {
   "cell_type": "code",
   "execution_count": 1,
   "metadata": {},
   "outputs": [
    {
     "name": "stdout",
     "output_type": "stream",
     "text": [
      "[['Case ID;Event ID;dd-MM-yyyy:HH.mm;Activity;Resource;Costs'], ['1;35654423;30-12-2010:11.02;register request;Pete;50'], ['1;35654424;31-12-2010:10.06;examine thoroughly;Sue;400'], ['1;35654425;05-01-2011:15.12;check ticket;Mike;100'], ['1;35654426;06-01-2011:11.18;decide;Sara;200']]\n"
     ]
    }
   ],
   "source": [
    "# read the first n line of a csv file\n",
    "import csv\n",
    "with open('running-example.csv') as f:\n",
    "    f_csv = csv.reader(f)\n",
    "    #headers = next(f_csv)\n",
    "    rest = [next(f_csv) for x in range(5)]\n",
    "    print(rest)"
   ]
  },
  {
   "cell_type": "code",
   "execution_count": 3,
   "metadata": {},
   "outputs": [
    {
     "name": "stdout",
     "output_type": "stream",
     "text": [
      "['Case ID;Event ID;dd-MM-yyyy:HH.mm;Activity;Resource;Costs;Attribute_1;Attribute_2;Attribute_3;Attribute_4;Attribute_5']\n"
     ]
    }
   ],
   "source": [
    "# add sth to the end of a line\n",
    "import csv\n",
    "c = ['Attribute_1;Attribute_2;Attribute_3;Attribute_4;Attribute_5']\n",
    "with open('running-example.csv', 'r') as rstr:\n",
    "    with open('running-example.csv', 'a') as wstr:\n",
    "        f_r = csv.reader(rstr)\n",
    "        headers = next(f_r)\n",
    "        #print(headers)\n",
    "        headers += c\n",
    "        headers = [';'.join(headers)]\n",
    "        print(headers)"
   ]
  },
  {
   "cell_type": "code",
   "execution_count": 5,
   "metadata": {},
   "outputs": [
    {
     "name": "stdout",
     "output_type": "stream",
     "text": [
      "['Case ID;Event ID;dd-MM-yyyy:HH.mm;Activity;Resource;Costs']\n"
     ]
    }
   ],
   "source": [
    "# read headers(the first line)\n",
    "with open ('running-example.csv', 'r') as f:\n",
    "    f_r = csv.reader(f)\n",
    "    headers = next(f_r)\n",
    "    print(headers)"
   ]
  },
  {
   "cell_type": "code",
   "execution_count": 4,
   "metadata": {},
   "outputs": [
    {
     "name": "stdout",
     "output_type": "stream",
     "text": [
      "['1;35654423;30-12-2010:11.02;register request;Pete;50']\n",
      "['1;35654424;31-12-2010:10.06;examine thoroughly;Sue;400']\n",
      "['1;35654425;05-01-2011:15.12;check ticket;Mike;100']\n",
      "['1;35654426;06-01-2011:11.18;decide;Sara;200']\n",
      "['1;35654427;07-01-2011:14.24;reject request;Pete;200']\n",
      "['2;35654483;30-12-2010:11.32;register request;Mike;50']\n",
      "['2;35654485;30-12-2010:12.12;check ticket;Mike;100']\n",
      "['2;35654487;30-12-2010:14.16;examine casually;Sean;400']\n",
      "['2;35654488;05-01-2011:11.22;decide;Sara;200']\n",
      "['2;35654489;08-01-2011:12.05;pay compensation;Ellen;200']\n",
      "['3;35654521;30-12-2010:14.32;register request;Pete;50']\n",
      "['3;35654522;30-12-2010:15.06;examine casually;Mike;400']\n",
      "['3;35654524;30-12-2010:16.34;check ticket;Ellen;100']\n",
      "['3;35654525;06-01-2011:09.18;decide;Sara;200']\n",
      "['3;35654526;06-01-2011:12.18;reinitiate request;Sara;200']\n",
      "['3;35654527;06-01-2011:13.06;examine thoroughly;Sean;400']\n",
      "['3;35654530;08-01-2011:11.43;check ticket;Pete;100']\n",
      "['3;35654531;09-01-2011:09.55;decide;Sara;200']\n",
      "['3;35654533;15-01-2011:10.45;pay compensation;Ellen;200']\n",
      "['4;35654641;06-01-2011:15.02;register request;Pete;50']\n",
      "['4;35654643;07-01-2011:12.06;check ticket;Mike;100']\n",
      "['4;35654644;08-01-2011:14.43;examine thoroughly;Sean;400']\n",
      "['4;35654645;09-01-2011:12.02;decide;Sara;200']\n",
      "['4;35654647;12-01-2011:15.44;reject request;Ellen;200']\n",
      "['5;35654711;06-01-2011:09.02;register request;Ellen;50']\n",
      "['5;35654712;07-01-2011:10.16;examine casually;Mike;400']\n",
      "['5;35654714;08-01-2011:11.22;check ticket;Pete;100']\n",
      "['5;35654715;10-01-2011:13.28;decide;Sara;200']\n",
      "['5;35654716;11-01-2011:16.18;reinitiate request;Sara;200']\n",
      "['5;35654718;14-01-2011:14.33;check ticket;Ellen;100']\n",
      "['5;35654719;16-01-2011:15.50;examine casually;Mike;400']\n",
      "['5;35654720;19-01-2011:11.18;decide;Sara;200']\n",
      "['5;35654721;20-01-2011:12.48;reinitiate request;Sara;200']\n",
      "['5;35654722;21-01-2011:09.06;examine casually;Sue;400']\n",
      "['5;35654724;21-01-2011:11.34;check ticket;Pete;100']\n",
      "['5;35654725;23-01-2011:13.12;decide;Sara;200']\n",
      "['5;35654726;24-01-2011:14.56;reject request;Mike;200']\n",
      "['6;35654871;06-01-2011:15.02;register request;Mike;50']\n",
      "['6;35654873;06-01-2011:16.06;examine casually;Ellen;400']\n",
      "['6;35654874;07-01-2011:16.22;check ticket;Mike;100']\n",
      "['6;35654875;07-01-2011:16.52;decide;Sara;200']\n",
      "['6;35654877;16-01-2011:11.47;pay compensation;Mike;200']\n"
     ]
    }
   ],
   "source": [
    "# read file except the headers(the first line)\n",
    "with open ('running-example.csv', 'r') as f:\n",
    "    f_r = csv.reader(f)\n",
    "    headers = next(f_r)\n",
    "    for row in f_r:\n",
    "        print(row)"
   ]
  },
  {
   "cell_type": "code",
   "execution_count": null,
   "metadata": {
    "collapsed": true
   },
   "outputs": [],
   "source": []
  }
 ],
 "metadata": {
  "kernelspec": {
   "display_name": "Python 3",
   "language": "python",
   "name": "python3"
  },
  "language_info": {
   "codemirror_mode": {
    "name": "ipython",
    "version": 3
   },
   "file_extension": ".py",
   "mimetype": "text/x-python",
   "name": "python",
   "nbconvert_exporter": "python",
   "pygments_lexer": "ipython3",
   "version": "3.5.3"
  }
 },
 "nbformat": 4,
 "nbformat_minor": 2
}
