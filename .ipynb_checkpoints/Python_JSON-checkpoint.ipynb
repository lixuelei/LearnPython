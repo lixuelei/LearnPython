{
 "cells": [
  {
   "cell_type": "markdown",
   "metadata": {},
   "source": [
    "JavaScript Object Notation是一种轻量级的数据交换格式。Python3可以使用json模块对JSON数据进行编码/解码\n",
    "json.dumps():对数据进行编码\n",
    "json.loads():对数据进行解码"
   ]
  },
  {
   "cell_type": "markdown",
   "metadata": {},
   "source": [
    "JSON和Python内置的数据类型对应如下：\n",
    "JSON类型\tPython类型\n",
    "{}\t      dict\n",
    "[]\t      list\n",
    "\"string\"  str\n",
    "1234.56\t  int或float\n",
    "true/false\tTrue/False\n",
    "null\t  None"
   ]
  },
  {
   "cell_type": "code",
   "execution_count": 6,
   "metadata": {},
   "outputs": [
    {
     "name": "stdout",
     "output_type": "stream",
     "text": [
      "python原始数据：  {'name': 'Bob', 'url': 'www.lalala.com', 'no': 1}\n",
      "JSON原始数据：  {\"name\": \"Bob\", \"url\": \"www.lalala.com\", \"no\": 1}\n",
      "data2['name']:  Bob\n",
      "data2['url'] www.lalala.com\n"
     ]
    }
   ],
   "source": [
    "import json\n",
    "# Python dict to json object\n",
    "data = {'no':1, 'name':'Bob', 'url':'www.lalala.com'}\n",
    "\n",
    "json_str = json.dumps(data) #编码\n",
    "print('python原始数据： ',repr(data))\n",
    "print('JSON原始数据： ', json_str)\n",
    "\n",
    "# JSON object to Python dict\n",
    "data2 = json.loads(json_str) #解码\n",
    "print(\"data2['name']: \", data2['name'])\n",
    "print(\"data2['url']\", data2['url'])"
   ]
  },
  {
   "cell_type": "markdown",
   "metadata": {},
   "source": [
    "如果要处理文件而不是字符串，可以用json.dump()和json.load()来编码/解码JSON数据"
   ]
  },
  {
   "cell_type": "code",
   "execution_count": null,
   "metadata": {
    "collapsed": true
   },
   "outputs": [],
   "source": [
    "# 写入JSON数据\n",
    "with open('data.json', 'w') as f:\n",
    "    json.dump(data, f)\n",
    "    \n",
    "# 读取数据\n",
    "with open('data.json', 'r') as f:\n",
    "    data = json.load(f)"
   ]
  },
  {
   "cell_type": "code",
   "execution_count": null,
   "metadata": {
    "collapsed": true
   },
   "outputs": [],
   "source": [
    "Python 编码为 JSON 类型转换对应表：\n",
    "Python\tJSON\n",
    "dict\tobject\n",
    "list, tuple\tarray\n",
    "str\tstring\n",
    "int, float, int- & float-derived Enums\tnumber\n",
    "True\ttrue\n",
    "False\tfalse\n",
    "None\tnull"
   ]
  }
 ],
 "metadata": {
  "kernelspec": {
   "display_name": "Python 3",
   "language": "python",
   "name": "python3"
  },
  "language_info": {
   "codemirror_mode": {
    "name": "ipython",
    "version": 3
   },
   "file_extension": ".py",
   "mimetype": "text/x-python",
   "name": "python",
   "nbconvert_exporter": "python",
   "pygments_lexer": "ipython3",
   "version": "3.5.3"
  }
 },
 "nbformat": 4,
 "nbformat_minor": 2
}
