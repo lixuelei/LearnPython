{
 "cells": [
  {
   "cell_type": "markdown",
   "metadata": {},
   "source": [
    "# Dict"
   ]
  },
  {
   "cell_type": "code",
   "execution_count": 16,
   "metadata": {},
   "outputs": [
    {
     "data": {
      "text/plain": [
       "{'bob': '888-999-666', 'jerry': '666-33-111', 'tom': '111-222-333'}"
      ]
     },
     "execution_count": 16,
     "metadata": {},
     "output_type": "execute_result"
    }
   ],
   "source": [
    "# 创建\n",
    "friends = {'tom' : '111-222-333', 'jerry' : '666-33-111'}\n",
    "# 添加 : dictionary_name['newkey'] = 'newvalue'\n",
    "friends['bob'] = '888-999-666'\n",
    "friends"
   ]
  },
  {
   "cell_type": "code",
   "execution_count": 3,
   "metadata": {},
   "outputs": [
    {
     "data": {
      "text/plain": [
       "{'A': 1, 'B': 2, 'C': 3, 'D': 4, 'E': 5}"
      ]
     },
     "execution_count": 3,
     "metadata": {},
     "output_type": "execute_result"
    }
   ],
   "source": [
    "# append dict to a dict: update\n",
    "a = {'A': 1, 'B': 2, 'C': 3}\n",
    "b = {'D': 4, 'E': 5}\n",
    "a.update(b)\n",
    "a"
   ]
  },
  {
   "cell_type": "code",
   "execution_count": 4,
   "metadata": {
    "collapsed": true
   },
   "outputs": [],
   "source": [
    "# 空\n",
    "dict_emp = {}"
   ]
  },
  {
   "cell_type": "code",
   "execution_count": 5,
   "metadata": {},
   "outputs": [
    {
     "data": {
      "text/plain": [
       "'111-222-333'"
      ]
     },
     "execution_count": 5,
     "metadata": {},
     "output_type": "execute_result"
    }
   ],
   "source": [
    "# get value\n",
    "friends['tom']"
   ]
  },
  {
   "cell_type": "code",
   "execution_count": 6,
   "metadata": {},
   "outputs": [
    {
     "name": "stdout",
     "output_type": "stream",
     "text": [
      "jerry :  666-33-111\n",
      "bob :  888-999-666\n",
      "tom :  111-222-333\n"
     ]
    }
   ],
   "source": [
    "# loop\n",
    "for key in friends:\n",
    "    print(key, ': ', friends[key])"
   ]
  },
  {
   "cell_type": "code",
   "execution_count": 9,
   "metadata": {},
   "outputs": [
    {
     "data": {
      "text/plain": [
       "15"
      ]
     },
     "execution_count": 9,
     "metadata": {},
     "output_type": "execute_result"
    }
   ],
   "source": [
    "# 索引\n",
    "exDict = {'Jack':15, 'Bob':22, 'Alice':12, 'Kevin':17}\n",
    "exDict['Jack']"
   ]
  },
  {
   "cell_type": "code",
   "execution_count": 10,
   "metadata": {},
   "outputs": [
    {
     "name": "stdout",
     "output_type": "stream",
     "text": [
      "{'Tim': 14, 'Alice': 12, 'Kevin': 17, 'Jack': 15, 'Bob': 22}\n"
     ]
    }
   ],
   "source": [
    "# 通过key放入数据\n",
    "exDict = {'Jack':15, 'Bob':22, 'Alice':12, 'Kevin':17}\n",
    "exDict['Tim'] = 14\n",
    "print(exDict)"
   ]
  },
  {
   "cell_type": "code",
   "execution_count": 11,
   "metadata": {},
   "outputs": [
    {
     "name": "stdout",
     "output_type": "stream",
     "text": [
      "{'Tim': 15, 'Alice': 12, 'Kevin': 17, 'Jack': 15, 'Bob': 22}\n"
     ]
    }
   ],
   "source": [
    " #重新赋值\n",
    "exDict['Tim'] = 15\n",
    "print(exDict)"
   ]
  },
  {
   "cell_type": "code",
   "execution_count": 13,
   "metadata": {},
   "outputs": [
    {
     "name": "stdout",
     "output_type": "stream",
     "text": [
      "{'Alice': 12, 'Kevin': 17, 'Jack': 15, 'Bob': 22}\n"
     ]
    }
   ],
   "source": [
    "# 删除元素\n",
    "del exDict['Tim']\n",
    "print(exDict)"
   ]
  },
  {
   "cell_type": "code",
   "execution_count": 14,
   "metadata": {},
   "outputs": [
    {
     "name": "stdout",
     "output_type": "stream",
     "text": [
      "{'Alice': 12, 'Jack': 15, 'Bob': 22}\n"
     ]
    }
   ],
   "source": [
    "# 删除一个key，对应的value也会被删除\n",
    "exDict = {'Jack':15, 'Bob':22, 'Alice':12, 'Kevin':17}\n",
    "exDict.pop('Kevin')\n",
    "print(exDict)\n"
   ]
  },
  {
   "cell_type": "code",
   "execution_count": 15,
   "metadata": {},
   "outputs": [
    {
     "name": "stdout",
     "output_type": "stream",
     "text": [
      "blonde\n"
     ]
    }
   ],
   "source": [
    "# 赋多值\n",
    "exdict = {'Jack':[15,'blonde'], 'Bob':[22,'brown'], 'Alice':[12,'black'], 'Kevin':[17,'red']}\n",
    "print(exdict['Jack'][1])"
   ]
  },
  {
   "cell_type": "code",
   "execution_count": 40,
   "metadata": {},
   "outputs": [
    {
     "data": {
      "text/plain": [
       "False"
      ]
     },
     "execution_count": 40,
     "metadata": {},
     "output_type": "execute_result"
    }
   ],
   "source": [
    "# 通过 in 判断key是否存在\n",
    "exDict = {'Jack':15, 'Bob':22, 'Alice':12, 'Kevin':17}\n",
    "'Thomas' in exDict"
   ]
  },
  {
   "cell_type": "code",
   "execution_count": 41,
   "metadata": {},
   "outputs": [
    {
     "data": {
      "text/plain": [
       "31"
      ]
     },
     "execution_count": 41,
     "metadata": {},
     "output_type": "execute_result"
    }
   ],
   "source": [
    "# 如果key不存在，可以返回None，或者自己指定的value\n",
    "exDict.get('Thomas', 31)"
   ]
  },
  {
   "cell_type": "code",
   "execution_count": 1,
   "metadata": {},
   "outputs": [
    {
     "data": {
      "text/plain": [
       "{'A': 'aa'}"
      ]
     },
     "execution_count": 1,
     "metadata": {},
     "output_type": "execute_result"
    }
   ],
   "source": [
    "# 创建dict + 添加元素\n",
    "d = {}\n",
    "d['A'] = 'aa'\n",
    "d"
   ]
  },
  {
   "cell_type": "code",
   "execution_count": 2,
   "metadata": {},
   "outputs": [
    {
     "data": {
      "text/plain": [
       "{'Attr_1': 'EPL1_1',\n",
       " 'Attr_2': 'EPL2_4',\n",
       " 'Attr_3': 'EPL3_5',\n",
       " 'Attr_4': 'EPL4_2',\n",
       " 'Attr_5': 'EPL5_10'}"
      ]
     },
     "execution_count": 2,
     "metadata": {},
     "output_type": "execute_result"
    }
   ],
   "source": [
    "import random\n",
    "def rand_attr(no_attr, no_employee):\n",
    "    d = {}\n",
    "    for i in range(1, no_attr + 1):\n",
    "        key = 'Attr_' + str(i)\n",
    "        value = 'EPL' + str(i) + '_' + str(random.randint(1, no_employee))\n",
    "        d[key] = value\n",
    "    return d\n",
    "rand_attr(5,10)"
   ]
  },
  {
   "cell_type": "markdown",
   "metadata": {},
   "source": [
    "# Set"
   ]
  },
  {
   "cell_type": "markdown",
   "metadata": {},
   "source": [
    "### set和dict类似，也是一组key的集合，但不存储value。\n",
    "### 由于key不能重复，所以在set中没有重复的key。"
   ]
  },
  {
   "cell_type": "code",
   "execution_count": 50,
   "metadata": {},
   "outputs": [
    {
     "name": "stdout",
     "output_type": "stream",
     "text": [
      "{1, 2, 3}\n",
      "{1, 2, 3}\n",
      "{1, 2, 3, 4}\n",
      "{2, 3, 4}\n",
      "{2, 3}\n",
      "{1, 2, 3, 4}\n"
     ]
    }
   ],
   "source": [
    "# 创建一个set需要提供一个list作为输入集合\n",
    "s = set([1, 2, 3])\n",
    "print(s)\n",
    "\n",
    "# 重复元素在set中自动被过滤\n",
    "s = set([1, 1, 2, 2, 3, 3])\n",
    "print(s)\n",
    "\n",
    "# 添加元素\n",
    "s.add(4)\n",
    "print(s)\n",
    " \n",
    "# 删除元素\n",
    "s.remove(1)\n",
    "print(s)\n",
    "\n",
    "# 交集\n",
    "s1 = set([1, 2, 3])\n",
    "s2 = set([2, 3, 4])\n",
    "print(s1 & s2)\n",
    "\n",
    "# 并集\n",
    "print(s1 | s2)"
   ]
  },
  {
   "cell_type": "markdown",
   "metadata": {},
   "source": [
    "# List"
   ]
  },
  {
   "cell_type": "code",
   "execution_count": 53,
   "metadata": {},
   "outputs": [
    {
     "name": "stdout",
     "output_type": "stream",
     "text": [
      "3\n",
      "['Michael', 'Bob', 'Tracy', 'Adam']\n",
      "['Michael', 'Jack', 'Bob', 'Tracy', 'Adam']\n",
      "['Michael', 'Jack', 'Bob', 'Tracy']\n",
      "['Michael', 'Sarah', 'Bob', 'Tracy']\n",
      "['Apple', 123, True]\n",
      "['python', 'java', ['asp', 'php'], 'scheme'] 4\n",
      "['a', 'b', 'c'] [1, 2, 3, 5]\n"
     ]
    }
   ],
   "source": [
    "classmates = ['Michael', 'Bob', 'Tracy']\n",
    "# 元素个数\n",
    "print(len(classmates))\n",
    "\n",
    "# 添加元素\n",
    "classmates.append('Adam')\n",
    "print(classmates)\n",
    "\n",
    "# 添加元素到指定位置\n",
    "classmates.insert(1,'Jack')\n",
    "print(classmates)\n",
    "\n",
    "# 删除末尾元素\n",
    "classmates.pop()\n",
    "print(classmates)\n",
    "\n",
    "# 重新赋值给索引\n",
    "classmates[1] = 'Sarah'\n",
    "print(classmates)\n",
    "\n",
    "# list元素数据类型也可不同\n",
    "L = ['Apple', 123, True]\n",
    "print(L)\n",
    "\n",
    "# list元素也可以是另一个list\n",
    "s = ['python', 'java', ['asp', 'php'], 'scheme']\n",
    "print(s,len(s))\n",
    "\n",
    "# 排列\n",
    "a = ['c', 'b', 'a']\n",
    "b = [3,5,1,2]\n",
    "a.sort()\n",
    "b.sort()\n",
    "print(a,b)"
   ]
  },
  {
   "cell_type": "markdown",
   "metadata": {},
   "source": [
    "### List Indexing"
   ]
  },
  {
   "cell_type": "code",
   "execution_count": 14,
   "metadata": {},
   "outputs": [
    {
     "name": "stdout",
     "output_type": "stream",
     "text": [
      "[7, 8, 9, 10]\n",
      "[1, 2, 3, 4, 5, 6, 7, 8, 9]\n",
      "[1, 3, 5]\n",
      "[5, 4, 3, 2]\n",
      "[10, 9, 8, 7, 6, 5, 4, 3, 2, 1]\n"
     ]
    }
   ],
   "source": [
    "a = [1,2,3,4,5,6,7,8,9,10]\n",
    "print(a[6:])\n",
    "print(a[:-1])\n",
    "print(a[0:5:2])\n",
    "print(a[4:0:-1])\n",
    "print(a[::-1])"
   ]
  },
  {
   "cell_type": "code",
   "execution_count": 4,
   "metadata": {},
   "outputs": [
    {
     "data": {
      "text/plain": [
       "2"
      ]
     },
     "execution_count": 4,
     "metadata": {},
     "output_type": "execute_result"
    }
   ],
   "source": [
    "# 统计某个元素在列表中出现的次数\n",
    "l = [1,3,5,7]\n",
    "l2 = [1,2,3,4,4]\n",
    "l2.count(4)"
   ]
  },
  {
   "cell_type": "code",
   "execution_count": 6,
   "metadata": {},
   "outputs": [
    {
     "data": {
      "text/plain": [
       "3"
      ]
     },
     "execution_count": 6,
     "metadata": {},
     "output_type": "execute_result"
    }
   ],
   "source": [
    "# 从列表中找出某个值第一个匹配项的索引位置\n",
    "l2.index(4)"
   ]
  },
  {
   "cell_type": "code",
   "execution_count": 9,
   "metadata": {},
   "outputs": [
    {
     "data": {
      "text/plain": [
       "[7, 5, 3, 1]"
      ]
     },
     "execution_count": 9,
     "metadata": {},
     "output_type": "execute_result"
    }
   ],
   "source": [
    "# 反向列表中元素\n",
    "l.reverse()\n",
    "l"
   ]
  },
  {
   "cell_type": "code",
   "execution_count": 17,
   "metadata": {},
   "outputs": [
    {
     "name": "stdout",
     "output_type": "stream",
     "text": [
      "['b', 'a', 'd', 'c']\n"
     ]
    }
   ],
   "source": [
    "# 删除重复元素\n",
    "l1 = ['b','c','d','b','c','a','a']\n",
    "l2 = list(set(l1))\n",
    "print(l2)"
   ]
  },
  {
   "cell_type": "markdown",
   "metadata": {},
   "source": [
    "# Tuple : 元组 (一旦初始化就不能修改)"
   ]
  },
  {
   "cell_type": "code",
   "execution_count": 27,
   "metadata": {},
   "outputs": [
    {
     "name": "stdout",
     "output_type": "stream",
     "text": [
      "Michael\n",
      "(1, 2)\n",
      "()\n",
      "(1,)\n"
     ]
    }
   ],
   "source": [
    "classmates = ('Michael', 'Bob', 'Tracy')\n",
    "# 它没有append()，insert()这样的方法\n",
    "# 获取元素\n",
    "print(classmates[0])\n",
    "\n",
    "# 定义一个tuple\n",
    "t = (1,2)\n",
    "print(t)\n",
    "\n",
    "# 定义一个空tuple\n",
    "t = ()\n",
    "print(t)\n",
    "\n",
    "# 定义只有一个元素的tuple需要用逗号来消除歧义\n",
    "t = (1,)\n",
    "print(t)"
   ]
  }
 ],
 "metadata": {
  "kernelspec": {
   "display_name": "Python 3",
   "language": "python",
   "name": "python3"
  },
  "language_info": {
   "codemirror_mode": {
    "name": "ipython",
    "version": 3
   },
   "file_extension": ".py",
   "mimetype": "text/x-python",
   "name": "python",
   "nbconvert_exporter": "python",
   "pygments_lexer": "ipython3",
   "version": "3.5.3"
  }
 },
 "nbformat": 4,
 "nbformat_minor": 2
}
