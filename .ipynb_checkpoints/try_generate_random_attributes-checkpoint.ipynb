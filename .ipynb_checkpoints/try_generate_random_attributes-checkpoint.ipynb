{
 "cells": [
  {
   "cell_type": "code",
   "execution_count": 86,
   "metadata": {},
   "outputs": [
    {
     "data": {
      "text/plain": [
       "{'Attr_1': 'EPL1_10',\n",
       " 'Attr_2': 'EPL2_5',\n",
       " 'Attr_3': 'EPL3_7',\n",
       " 'Attr_4': 'EPL4_6',\n",
       " 'Attr_5': 'EPL5_10'}"
      ]
     },
     "execution_count": 86,
     "metadata": {},
     "output_type": "execute_result"
    }
   ],
   "source": [
    "import random\n",
    "def rand_attr(no_attr, no_employee):\n",
    "    d = {}\n",
    "    for i in range(1, no_attr + 1):\n",
    "        key = 'Attr_' + str(i)\n",
    "        value = 'EPL' + str(i) + '_' + str(random.randint(1, no_employee))\n",
    "        d[key] = value\n",
    "    return d\n",
    "rand_attr(5,10)"
   ]
  },
  {
   "cell_type": "code",
   "execution_count": null,
   "metadata": {
    "collapsed": true
   },
   "outputs": [],
   "source": []
  }
 ],
 "metadata": {
  "kernelspec": {
   "display_name": "Python 3",
   "language": "python",
   "name": "python3"
  },
  "language_info": {
   "codemirror_mode": {
    "name": "ipython",
    "version": 3
   },
   "file_extension": ".py",
   "mimetype": "text/x-python",
   "name": "python",
   "nbconvert_exporter": "python",
   "pygments_lexer": "ipython3",
   "version": "3.5.3"
  }
 },
 "nbformat": 4,
 "nbformat_minor": 2
}
